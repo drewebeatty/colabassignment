{
  "nbformat": 4,
  "nbformat_minor": 0,
  "metadata": {
    "colab": {
      "provenance": [],
      "authorship_tag": "ABX9TyMcOZ4LbmIA2YgpGDKsi231",
      "include_colab_link": true
    },
    "kernelspec": {
      "name": "ir",
      "display_name": "R"
    },
    "language_info": {
      "name": "R"
    }
  },
  "cells": [
    {
      "cell_type": "markdown",
      "metadata": {
        "id": "view-in-github",
        "colab_type": "text"
      },
      "source": [
        "<a href=\"https://colab.research.google.com/github/drewebeatty/colabassignment/blob/main/Assignment.ipynb\" target=\"_parent\"><img src=\"https://colab.research.google.com/assets/colab-badge.svg\" alt=\"Open In Colab\"/></a>"
      ]
    },
    {
      "cell_type": "markdown",
      "source": [
        "### **Neural Network Model to Produce Predictions of Success in Residential Treatment**\n",
        "\n",
        "\n",
        "---\n",
        "\n",
        "\n"
      ],
      "metadata": {
        "id": "tt0kAsDJ0fCq"
      }
    },
    {
      "cell_type": "markdown",
      "source": [
        "Welcome to this Colab notebook, where our objective is to build a neural network model capable of predicting whether an adolescent will successfully complete the program based on their demographic characteristics and initial score on the Youth Outcome Questionnaire (YOQ). The YOQ is a comprehensive 64-item self-report measure that assesses various aspects of psychological health.\n",
        "\n",
        "The successful development of this model can serve two valuable purposes. Firstly, it could facilitate predictions prior to clients' admission into the program, aiding in informed admissions decisions. Secondly, it may assist therapists and staff in adopting a more proactive approach to treatment.\n",
        "\n",
        "For our analysis using the R programming language, we will be utilizing publicly available and de-identified data from a long-term residential treatment center catering to adolescent girls with borderline tendencies. This dataset comprises demographic information, treatment-related variables, responses to all 64 YOQ questions, calculated scores for the six YOQ subscales, and an overall YOQ total score. Additionally, the dataset includes an outcome variable, denoting whether the adolescent successfully completed the program, in contrast to dropping out or being asked to leave.\n",
        "\n",
        "In regards to this assignment and code, this framework and work flow was learned from John Curtin's machine learning class. The workflow is taken from our unit on neural networks, however the code has been changed to accomodate data from my own research!\n",
        "\n",
        "\n",
        "\n",
        "\n"
      ],
      "metadata": {
        "id": "BCeT-4n564Ac"
      }
    },
    {
      "cell_type": "markdown",
      "source": [
        "\n",
        "# **Required Packages**\n",
        "\n",
        "The following packages will be needed for building this model. Some packages will not be used outright, but some functions will have a dependency on these packages. When using R, we need to use the Keras package in addition to Tensorflow. We will be using tidymodels and a tidymodels style to set up and run our model."
      ],
      "metadata": {
        "id": "KJz6-Y5XACf7"
      }
    },
    {
      "cell_type": "code",
      "execution_count": null,
      "metadata": {
        "colab": {
          "base_uri": "https://localhost:8080/"
        },
        "id": "dTZDpuIghsym",
        "outputId": "fc390fa9-0eab-4716-a501-e3b4a5cfc402"
      },
      "outputs": [
        {
          "output_type": "stream",
          "name": "stderr",
          "text": [
            "Installing package into ‘/usr/local/lib/R/site-library’\n",
            "(as ‘lib’ is unspecified)\n",
            "\n",
            "Installing package into ‘/usr/local/lib/R/site-library’\n",
            "(as ‘lib’ is unspecified)\n",
            "\n",
            "Installing package into ‘/usr/local/lib/R/site-library’\n",
            "(as ‘lib’ is unspecified)\n",
            "\n",
            "Installing package into ‘/usr/local/lib/R/site-library’\n",
            "(as ‘lib’ is unspecified)\n",
            "\n",
            "Installing package into ‘/usr/local/lib/R/site-library’\n",
            "(as ‘lib’ is unspecified)\n",
            "\n",
            "Installing package into ‘/usr/local/lib/R/site-library’\n",
            "(as ‘lib’ is unspecified)\n",
            "\n",
            "Installing package into ‘/usr/local/lib/R/site-library’\n",
            "(as ‘lib’ is unspecified)\n",
            "\n",
            "Installing package into ‘/usr/local/lib/R/site-library’\n",
            "(as ‘lib’ is unspecified)\n",
            "\n",
            "Installing package into ‘/usr/local/lib/R/site-library’\n",
            "(as ‘lib’ is unspecified)\n",
            "\n",
            "Installing package into ‘/usr/local/lib/R/site-library’\n",
            "(as ‘lib’ is unspecified)\n",
            "\n",
            "Installing package into ‘/usr/local/lib/R/site-library’\n",
            "(as ‘lib’ is unspecified)\n",
            "\n"
          ]
        }
      ],
      "source": [
        "install.packages('tidymodels') # for modeling\n",
        "install.packages(\"psych\") # for viewing data and summary stats\n",
        "install.packages('tidyverse') # for general data wrangling\n",
        "install.packages('kableExtra') # for displaying formatted tables w/ kbl()\n",
        "install.packages('skimr') # for skim()\n",
        "install.packages('corrplot')\n",
        "install.packages('janitor')\n",
        "install.packages('cowplot') # for plot_grid() and theme_half_open()\n",
        "install.packages('ggplot2') # for plotting performance\n",
        "install.packages(\"keras\") # for NN - needed layer for R\n",
        "install.packages(\"tensorflow\") # for NN"
      ]
    },
    {
      "cell_type": "markdown",
      "source": [
        "# **Load the Required Packages**\n",
        "\n",
        "Now that we have all the packages installed, let's load them into our environment. We will also be using some functions that John Curtin wrote and has posted in to his github. We will be pulling down these functions from github using devtools. If this method doesn't work for you the functions can also be found in the file \"fun_modeling.R\" which is included in the repo."
      ],
      "metadata": {
        "id": "a5zhTl3_A4mo"
      }
    },
    {
      "cell_type": "code",
      "source": [
        "# Load in the required libraries, set plotting theme, and source functions through git and file\n",
        "library(ggplot2)\n",
        "#theme_set(theme_half_open()) # plotting theme\n",
        "#source('fun_modeling.R')\n",
        "library(keras)\n",
        "library(tensorflow)\n",
        "library(psych) # for summary of data\n",
        "library(tidymodels) # for modeling\n",
        "library(tidyverse) # for general data wrangling\n",
        "library(kableExtra) # for displaying formatted tables w/ kbl()\n",
        "library(skimr) # for skim()\n",
        "library(corrplot)\n",
        "library(ggplot2)\n",
        "library(cowplot)\n",
        "devtools::source_url(\"https://github.com/jjcurtin/lab_support/blob/main/fun_plots.R?raw=true\") # functions for plotting\n",
        "devtools::source_url(\"https://github.com/jjcurtin/lab_support/blob/main/fun_ml.R?raw=true\") # other functions that might come in handy"
      ],
      "metadata": {
        "id": "5TEfp-kFif5A",
        "colab": {
          "base_uri": "https://localhost:8080/"
        },
        "outputId": "54c3b4c5-158a-4a88-aacf-b0a7493de17a"
      },
      "execution_count": null,
      "outputs": [
        {
          "output_type": "stream",
          "name": "stderr",
          "text": [
            "\n",
            "Attaching package: ‘psych’\n",
            "\n",
            "\n",
            "The following objects are masked from ‘package:ggplot2’:\n",
            "\n",
            "    %+%, alpha\n",
            "\n",
            "\n",
            "── \u001b[1mAttaching packages\u001b[22m ────────────────────────────────────── tidymodels 1.1.0 ──\n",
            "\n",
            "\u001b[32m✔\u001b[39m \u001b[34mbroom       \u001b[39m 1.0.5     \u001b[32m✔\u001b[39m \u001b[34mrsample     \u001b[39m 1.1.1\n",
            "\u001b[32m✔\u001b[39m \u001b[34mdials       \u001b[39m 1.2.0     \u001b[32m✔\u001b[39m \u001b[34mtibble      \u001b[39m 3.2.1\n",
            "\u001b[32m✔\u001b[39m \u001b[34mdplyr       \u001b[39m 1.1.2     \u001b[32m✔\u001b[39m \u001b[34mtidyr       \u001b[39m 1.3.0\n",
            "\u001b[32m✔\u001b[39m \u001b[34minfer       \u001b[39m 1.0.4     \u001b[32m✔\u001b[39m \u001b[34mtune        \u001b[39m 1.1.1\n",
            "\u001b[32m✔\u001b[39m \u001b[34mmodeldata   \u001b[39m 1.1.0     \u001b[32m✔\u001b[39m \u001b[34mworkflows   \u001b[39m 1.1.3\n",
            "\u001b[32m✔\u001b[39m \u001b[34mparsnip     \u001b[39m 1.1.0     \u001b[32m✔\u001b[39m \u001b[34mworkflowsets\u001b[39m 1.0.1\n",
            "\u001b[32m✔\u001b[39m \u001b[34mpurrr       \u001b[39m 1.0.1     \u001b[32m✔\u001b[39m \u001b[34myardstick   \u001b[39m 1.2.0\n",
            "\u001b[32m✔\u001b[39m \u001b[34mrecipes     \u001b[39m 1.0.6     \n",
            "\n",
            "── \u001b[1mConflicts\u001b[22m ───────────────────────────────────────── tidymodels_conflicts() ──\n",
            "\u001b[31m✖\u001b[39m \u001b[34mpsych\u001b[39m::\u001b[32m%+%()\u001b[39m             masks \u001b[34mggplot2\u001b[39m::%+%()\n",
            "\u001b[31m✖\u001b[39m \u001b[34mscales\u001b[39m::\u001b[32malpha()\u001b[39m          masks \u001b[34mpsych\u001b[39m::alpha(), \u001b[34mggplot2\u001b[39m::alpha()\n",
            "\u001b[31m✖\u001b[39m \u001b[34mpurrr\u001b[39m::\u001b[32mdiscard()\u001b[39m         masks \u001b[34mscales\u001b[39m::discard()\n",
            "\u001b[31m✖\u001b[39m \u001b[34mdplyr\u001b[39m::\u001b[32mfilter()\u001b[39m          masks \u001b[34mstats\u001b[39m::filter()\n",
            "\u001b[31m✖\u001b[39m \u001b[34myardstick\u001b[39m::\u001b[32mget_weights()\u001b[39m masks \u001b[34mkeras\u001b[39m::get_weights()\n",
            "\u001b[31m✖\u001b[39m \u001b[34mdplyr\u001b[39m::\u001b[32mlag()\u001b[39m             masks \u001b[34mstats\u001b[39m::lag()\n",
            "\u001b[31m✖\u001b[39m \u001b[34mrecipes\u001b[39m::\u001b[32mstep()\u001b[39m          masks \u001b[34mstats\u001b[39m::step()\n",
            "\u001b[34m•\u001b[39m Use suppressPackageStartupMessages() to eliminate package startup messages\n",
            "\n",
            "── \u001b[1mAttaching core tidyverse packages\u001b[22m ──────────────────────── tidyverse 2.0.0 ──\n",
            "\u001b[32m✔\u001b[39m \u001b[34mforcats  \u001b[39m 1.0.0     \u001b[32m✔\u001b[39m \u001b[34mreadr    \u001b[39m 2.1.4\n",
            "\u001b[32m✔\u001b[39m \u001b[34mlubridate\u001b[39m 1.9.2     \u001b[32m✔\u001b[39m \u001b[34mstringr  \u001b[39m 1.5.0\n",
            "── \u001b[1mConflicts\u001b[22m ────────────────────────────────────────── tidyverse_conflicts() ──\n",
            "\u001b[31m✖\u001b[39m \u001b[34mpsych\u001b[39m::\u001b[32m%+%()\u001b[39m        masks \u001b[34mggplot2\u001b[39m::%+%()\n",
            "\u001b[31m✖\u001b[39m \u001b[34mscales\u001b[39m::\u001b[32malpha()\u001b[39m     masks \u001b[34mpsych\u001b[39m::alpha(), \u001b[34mggplot2\u001b[39m::alpha()\n",
            "\u001b[31m✖\u001b[39m \u001b[34mreadr\u001b[39m::\u001b[32mcol_factor()\u001b[39m masks \u001b[34mscales\u001b[39m::col_factor()\n",
            "\u001b[31m✖\u001b[39m \u001b[34mpurrr\u001b[39m::\u001b[32mdiscard()\u001b[39m    masks \u001b[34mscales\u001b[39m::discard()\n",
            "\u001b[31m✖\u001b[39m \u001b[34mdplyr\u001b[39m::\u001b[32mfilter()\u001b[39m     masks \u001b[34mstats\u001b[39m::filter()\n",
            "\u001b[31m✖\u001b[39m \u001b[34mstringr\u001b[39m::\u001b[32mfixed()\u001b[39m    masks \u001b[34mrecipes\u001b[39m::fixed()\n",
            "\u001b[31m✖\u001b[39m \u001b[34mdplyr\u001b[39m::\u001b[32mlag()\u001b[39m        masks \u001b[34mstats\u001b[39m::lag()\n",
            "\u001b[31m✖\u001b[39m \u001b[34mreadr\u001b[39m::\u001b[32mspec()\u001b[39m       masks \u001b[34myardstick\u001b[39m::spec()\n",
            "\u001b[36mℹ\u001b[39m Use the conflicted package (\u001b[3m\u001b[34m<http://conflicted.r-lib.org/>\u001b[39m\u001b[23m) to force all conflicts to become errors\n",
            "\n",
            "Attaching package: ‘kableExtra’\n",
            "\n",
            "\n",
            "The following object is masked from ‘package:dplyr’:\n",
            "\n",
            "    group_rows\n",
            "\n",
            "\n",
            "corrplot 0.92 loaded\n",
            "\n",
            "\n",
            "Attaching package: ‘cowplot’\n",
            "\n",
            "\n",
            "The following object is masked from ‘package:lubridate’:\n",
            "\n",
            "    stamp\n",
            "\n",
            "\n",
            "\u001b[36mℹ\u001b[39m SHA-1 hash of file is def6ce26ed7b2493931fde811adff9287ee8d874\n",
            "\n",
            "\u001b[36mℹ\u001b[39m SHA-1 hash of file is 0760820bae0fcebae227d042261c691b332fd9bc\n",
            "\n"
          ]
        }
      ]
    },
    {
      "cell_type": "markdown",
      "source": [
        "# **Load in the Data**\n",
        "The data file included in the repo is called \"yoq_nn.csv\". You will need to upload this folder to your working files in Colab to read it in."
      ],
      "metadata": {
        "id": "y0hoCdUovyyw"
      }
    },
    {
      "cell_type": "code",
      "source": [
        "d <- read.csv('yoq_nn.csv') # read the file in\n",
        "describe(d) # get a quick look at our data set"
      ],
      "metadata": {
        "id": "QIswTb9ajqc0",
        "colab": {
          "base_uri": "https://localhost:8080/",
          "height": 1000
        },
        "outputId": "641b5fa4-212c-4ad7-e627-95ba3fe0fcbc"
      },
      "execution_count": null,
      "outputs": [
        {
          "output_type": "display_data",
          "data": {
            "text/html": [
              "<table class=\"dataframe\">\n",
              "<caption>A psych: 134 × 13</caption>\n",
              "<thead>\n",
              "\t<tr><th></th><th scope=col>vars</th><th scope=col>n</th><th scope=col>mean</th><th scope=col>sd</th><th scope=col>median</th><th scope=col>trimmed</th><th scope=col>mad</th><th scope=col>min</th><th scope=col>max</th><th scope=col>range</th><th scope=col>skew</th><th scope=col>kurtosis</th><th scope=col>se</th></tr>\n",
              "\t<tr><th></th><th scope=col>&lt;int&gt;</th><th scope=col>&lt;dbl&gt;</th><th scope=col>&lt;dbl&gt;</th><th scope=col>&lt;dbl&gt;</th><th scope=col>&lt;dbl&gt;</th><th scope=col>&lt;dbl&gt;</th><th scope=col>&lt;dbl&gt;</th><th scope=col>&lt;dbl&gt;</th><th scope=col>&lt;dbl&gt;</th><th scope=col>&lt;dbl&gt;</th><th scope=col>&lt;dbl&gt;</th><th scope=col>&lt;dbl&gt;</th><th scope=col>&lt;dbl&gt;</th></tr>\n",
              "</thead>\n",
              "<tbody>\n",
              "\t<tr><th scope=row>CID</th><td> 1</td><td>417</td><td>4.589204e+03</td><td>855.4372753</td><td>4623.0</td><td>4587.1582090</td><td>1073.4024</td><td>3111</td><td>6269</td><td>3158</td><td> 0.005653123</td><td>-1.1330093</td><td>41.890943599</td></tr>\n",
              "\t<tr><th scope=row>Relationship_to_client</th><td> 2</td><td>417</td><td>0.000000e+00</td><td>  0.0000000</td><td>   0.0</td><td>   0.0000000</td><td>   0.0000</td><td>   0</td><td>   0</td><td>   0</td><td>         NaN</td><td>       NaN</td><td> 0.000000000</td></tr>\n",
              "\t<tr><th scope=row>TimeInstance</th><td> 3</td><td>417</td><td>1.000000e+00</td><td>  0.0000000</td><td>   1.0</td><td>   1.0000000</td><td>   0.0000</td><td>   1</td><td>   1</td><td>   0</td><td>         NaN</td><td>       NaN</td><td> 0.000000000</td></tr>\n",
              "\t<tr><th scope=row>LOS</th><td> 4</td><td>416</td><td>2.970409e+02</td><td>140.5687784</td><td> 305.5</td><td> 296.4161677</td><td> 128.9862</td><td>   3</td><td> 743</td><td> 740</td><td> 0.077276786</td><td>-0.1197712</td><td> 6.891951385</td></tr>\n",
              "\t<tr><th scope=row>ReligPref</th><td> 5</td><td>121</td><td>1.006612e+01</td><td>  8.1911899</td><td>  10.0</td><td>   9.4432990</td><td>  10.3782</td><td>   0</td><td>  25</td><td>  25</td><td> 0.410265911</td><td>-1.1135970</td><td> 0.744653629</td></tr>\n",
              "\t<tr><th scope=row>ReligSimp</th><td> 6</td><td>121</td><td>4.181818e+00</td><td>  2.3021729</td><td>   6.0</td><td>   4.4226804</td><td>   0.0000</td><td>   0</td><td>   6</td><td>   6</td><td>-0.635089989</td><td>-1.3913465</td><td> 0.209288444</td></tr>\n",
              "\t<tr><th scope=row>Race</th><td> 7</td><td>397</td><td>1.375315e+00</td><td>  1.0287264</td><td>   1.0</td><td>   1.0626959</td><td>   0.0000</td><td>   1</td><td>   6</td><td>   5</td><td> 2.730537530</td><td> 6.2780484</td><td> 0.051630298</td></tr>\n",
              "\t<tr><th scope=row>Ethnicity</th><td> 8</td><td>387</td><td>8.527132e-02</td><td>  0.2796466</td><td>   0.0</td><td>   0.0000000</td><td>   0.0000</td><td>   0</td><td>   1</td><td>   1</td><td> 2.958427569</td><td> 6.7698067</td><td> 0.014215233</td></tr>\n",
              "\t<tr><th scope=row>MaritalStat</th><td> 9</td><td>413</td><td>2.012107e+00</td><td>  1.8688423</td><td>   1.0</td><td>   1.5377644</td><td>   0.0000</td><td>   1</td><td>   9</td><td>   8</td><td> 1.938932447</td><td> 2.5255548</td><td> 0.091959718</td></tr>\n",
              "\t<tr><th scope=row>Positivity</th><td>10</td><td>406</td><td>8.522167e+00</td><td>  2.1712490</td><td>   9.0</td><td>   8.9877301</td><td>   1.4826</td><td>   0</td><td>  10</td><td>  10</td><td>-1.944444456</td><td> 3.7000300</td><td> 0.107757278</td></tr>\n",
              "\t<tr><th scope=row>Sense</th><td>11</td><td>404</td><td>6.297030e+00</td><td>  3.2452892</td><td>   7.0</td><td>   6.5740741</td><td>   4.4478</td><td>   0</td><td>  10</td><td>  10</td><td>-0.488884652</td><td>-1.0139572</td><td> 0.161459171</td></tr>\n",
              "\t<tr><th scope=row>Gender</th><td>12</td><td>174</td><td>2.522989e+00</td><td>  1.2978596</td><td>   2.0</td><td>   2.1571429</td><td>   0.0000</td><td>   1</td><td>   7</td><td>   6</td><td> 2.284219239</td><td> 3.8504668</td><td> 0.098390483</td></tr>\n",
              "\t<tr><th scope=row>Sexuality</th><td>13</td><td>414</td><td>2.311594e+00</td><td>  1.3429074</td><td>   2.0</td><td>   2.0963855</td><td>   1.4826</td><td>   1</td><td>   6</td><td>   5</td><td> 1.199097378</td><td> 0.5922809</td><td> 0.066000299</td></tr>\n",
              "\t<tr><th scope=row>Transport</th><td>14</td><td>412</td><td>2.815534e-01</td><td>  0.4503035</td><td>   0.0</td><td>   0.2272727</td><td>   0.0000</td><td>   0</td><td>   1</td><td>   1</td><td> 0.967864507</td><td>-1.0658075</td><td> 0.022184862</td></tr>\n",
              "\t<tr><th scope=row>Wilderness</th><td>15</td><td>408</td><td>3.112745e-01</td><td>  0.4635832</td><td>   0.0</td><td>   0.2652439</td><td>   0.0000</td><td>   0</td><td>   1</td><td>   1</td><td> 0.812207639</td><td>-1.3435939</td><td> 0.022950791</td></tr>\n",
              "\t<tr><th scope=row>Acute_Psych</th><td>16</td><td>409</td><td>7.334963e-01</td><td>  0.4426721</td><td>   1.0</td><td>   0.7902736</td><td>   0.0000</td><td>   0</td><td>   1</td><td>   1</td><td>-1.052361069</td><td>-0.8947058</td><td> 0.021888726</td></tr>\n",
              "\t<tr><th scope=row>Residential</th><td>17</td><td>408</td><td>5.000000e-01</td><td>  0.5006139</td><td>   0.5</td><td>   0.5000000</td><td>   0.7413</td><td>   0</td><td>   1</td><td>   1</td><td> 0.000000000</td><td>-2.0048960</td><td> 0.024784080</td></tr>\n",
              "\t<tr><th scope=row>Outpatient</th><td>18</td><td>407</td><td>9.582310e-01</td><td>  0.2003072</td><td>   1.0</td><td>   1.0000000</td><td>   0.0000</td><td>   0</td><td>   1</td><td>   1</td><td>-4.564040653</td><td>18.8768657</td><td> 0.009928859</td></tr>\n",
              "\t<tr><th scope=row>Adopted</th><td>19</td><td>408</td><td>2.205882e-01</td><td>  0.4151524</td><td>   0.0</td><td>   0.1524390</td><td>   0.0000</td><td>   0</td><td>   1</td><td>   1</td><td> 1.342769294</td><td>-0.1974365</td><td> 0.020553105</td></tr>\n",
              "\t<tr><th scope=row>Annual_Income</th><td>20</td><td>391</td><td>3.567775e+00</td><td>  0.8652167</td><td>   4.0</td><td>   3.7795527</td><td>   0.0000</td><td>   1</td><td>   4</td><td>   3</td><td>-1.890843244</td><td> 2.3131457</td><td> 0.043755888</td></tr>\n",
              "\t<tr><th scope=row>P_Prescribe_Meds</th><td>21</td><td>410</td><td>9.390244e-01</td><td>  0.2395779</td><td>   1.0</td><td>   1.0000000</td><td>   0.0000</td><td>   0</td><td>   1</td><td>   1</td><td>-3.656043115</td><td>11.3944605</td><td> 0.011831910</td></tr>\n",
              "\t<tr><th scope=row>P_Meds_Adherance</th><td>22</td><td>384</td><td>2.643229e+00</td><td>  0.6005272</td><td>   3.0</td><td>   2.7597403</td><td>   0.0000</td><td>   1</td><td>   3</td><td>   2</td><td>-1.463728224</td><td> 1.0362619</td><td> 0.030645524</td></tr>\n",
              "\t<tr><th scope=row>C_Prescribe_Meds</th><td>23</td><td>415</td><td>8.337349e-01</td><td>  0.3727678</td><td>   1.0</td><td>   0.9159159</td><td>   0.0000</td><td>   0</td><td>   1</td><td>   1</td><td>-1.786263569</td><td> 1.1936312</td><td> 0.018298451</td></tr>\n",
              "\t<tr><th scope=row>C_Meds_Adherance</th><td>24</td><td>352</td><td>2.849432e+00</td><td>  0.4303973</td><td>   3.0</td><td>   2.9716312</td><td>   0.0000</td><td>   1</td><td>   3</td><td>   2</td><td>-2.937155891</td><td> 8.1212329</td><td> 0.022940254</td></tr>\n",
              "\t<tr><th scope=row>ClientAgeAdmit</th><td>25</td><td>417</td><td>1.554916e+01</td><td>  1.1573783</td><td>  16.0</td><td>  15.6119403</td><td>   1.4826</td><td>  12</td><td>  17</td><td>   5</td><td>-0.402338158</td><td>-0.5567427</td><td> 0.056677059</td></tr>\n",
              "\t<tr><th scope=row>Completion*</th><td>26</td><td>417</td><td>1.302158e+00</td><td>  0.4597451</td><td>   1.0</td><td>   1.2537313</td><td>   0.0000</td><td>   1</td><td>   2</td><td>   1</td><td> 0.858594477</td><td>-1.2658339</td><td> 0.022513813</td></tr>\n",
              "\t<tr><th scope=row>Backslide</th><td>27</td><td>409</td><td>1.745721e+00</td><td>  0.4359883</td><td>   2.0</td><td>   1.8054711</td><td>   0.0000</td><td>   1</td><td>   2</td><td>   1</td><td>-1.124436024</td><td>-0.7374287</td><td> 0.021558235</td></tr>\n",
              "\t<tr><th scope=row>PointSheet</th><td>28</td><td>409</td><td>1.814181e+00</td><td>  0.3894370</td><td>   2.0</td><td>   1.8905775</td><td>   0.0000</td><td>   1</td><td>   2</td><td>   1</td><td>-1.609568607</td><td> 0.5921769</td><td> 0.019256419</td></tr>\n",
              "\t<tr><th scope=row>Safety_Admit_Level</th><td>29</td><td>395</td><td>5.081013e+00</td><td>  9.1642385</td><td>   3.0</td><td>   3.1577287</td><td>   1.4826</td><td>   0</td><td>  89</td><td>  89</td><td> 5.276411254</td><td>32.8269953</td><td> 0.461102883</td></tr>\n",
              "\t<tr><th scope=row>Level1</th><td>30</td><td>351</td><td>4.677208e+01</td><td> 37.9559055</td><td>  39.0</td><td>  41.1637011</td><td>  29.6520</td><td>   0</td><td> 208</td><td> 208</td><td> 1.515754269</td><td> 2.6242531</td><td> 2.025936357</td></tr>\n",
              "\t<tr><th scope=row>⋮</th><td>⋮</td><td>⋮</td><td>⋮</td><td>⋮</td><td>⋮</td><td>⋮</td><td>⋮</td><td>⋮</td><td>⋮</td><td>⋮</td><td>⋮</td><td>⋮</td><td>⋮</td></tr>\n",
              "\t<tr><th scope=row>Q42</th><td>105</td><td>415</td><td> 2.1542169</td><td> 1.3514441</td><td> 2</td><td> 2.1921922</td><td> 1.4826</td><td>  0</td><td>  4</td><td>  4</td><td>-0.23365984</td><td>-1.10051984</td><td>0.06633978</td></tr>\n",
              "\t<tr><th scope=row>Q43</th><td>106</td><td>415</td><td> 1.3542169</td><td> 1.1660766</td><td> 1</td><td> 1.2462462</td><td> 1.4826</td><td>  0</td><td>  4</td><td>  4</td><td> 0.55373111</td><td>-0.50752635</td><td>0.05724045</td></tr>\n",
              "\t<tr><th scope=row>Q44</th><td>107</td><td>417</td><td> 1.4580336</td><td> 1.1843486</td><td> 1</td><td> 1.3671642</td><td> 1.4826</td><td>  0</td><td>  4</td><td>  4</td><td> 0.40291759</td><td>-0.66623178</td><td>0.05799780</td></tr>\n",
              "\t<tr><th scope=row>Q45</th><td>108</td><td>417</td><td> 0.3141487</td><td> 1.1826536</td><td> 0</td><td> 0.3582090</td><td> 1.4826</td><td> -2</td><td>  2</td><td>  4</td><td>-0.18018470</td><td>-0.83935336</td><td>0.05791480</td></tr>\n",
              "\t<tr><th scope=row>Q46</th><td>109</td><td>416</td><td> 1.0408654</td><td> 1.2765780</td><td> 0</td><td> 0.8413174</td><td> 0.0000</td><td>  0</td><td>  4</td><td>  4</td><td> 0.95681069</td><td>-0.26749348</td><td>0.06258938</td></tr>\n",
              "\t<tr><th scope=row>Q47</th><td>110</td><td>416</td><td>-1.0096154</td><td> 1.0709320</td><td>-1</td><td>-1.1706587</td><td> 1.4826</td><td> -2</td><td>  2</td><td>  4</td><td> 0.92323986</td><td> 0.11750727</td><td>0.05250676</td></tr>\n",
              "\t<tr><th scope=row>Q48</th><td>111</td><td>417</td><td> 0.8633094</td><td> 0.9572706</td><td> 1</td><td> 0.7343284</td><td> 1.4826</td><td>  0</td><td>  4</td><td>  4</td><td> 1.02895311</td><td> 0.63230854</td><td>0.04687774</td></tr>\n",
              "\t<tr><th scope=row>Q49</th><td>112</td><td>417</td><td> 1.9976019</td><td> 1.0059888</td><td> 2</td><td> 2.0029851</td><td> 1.4826</td><td>  0</td><td>  4</td><td>  4</td><td>-0.02348732</td><td>-0.21623242</td><td>0.04926348</td></tr>\n",
              "\t<tr><th scope=row>Q50</th><td>113</td><td>416</td><td> 0.9302885</td><td> 1.2252154</td><td> 0</td><td> 0.7275449</td><td> 0.0000</td><td>  0</td><td>  4</td><td>  4</td><td> 1.07359007</td><td>-0.03460516</td><td>0.06007113</td></tr>\n",
              "\t<tr><th scope=row>Q51</th><td>114</td><td>416</td><td> 0.5216346</td><td> 0.9101904</td><td> 0</td><td> 0.3203593</td><td> 0.0000</td><td>  0</td><td>  4</td><td>  4</td><td> 1.84878618</td><td> 2.88015991</td><td>0.04462575</td></tr>\n",
              "\t<tr><th scope=row>Q52</th><td>115</td><td>414</td><td> 0.9830918</td><td> 1.1591113</td><td> 1</td><td> 0.8042169</td><td> 1.4826</td><td>  0</td><td>  4</td><td>  4</td><td> 0.96342833</td><td>-0.05067859</td><td>0.05696721</td></tr>\n",
              "\t<tr><th scope=row>Q53</th><td>116</td><td>416</td><td>-0.2355769</td><td> 1.2073205</td><td> 0</td><td>-0.2844311</td><td> 1.4826</td><td> -2</td><td>  2</td><td>  4</td><td> 0.17067655</td><td>-0.87858297</td><td>0.05919376</td></tr>\n",
              "\t<tr><th scope=row>Q54</th><td>117</td><td>416</td><td> 1.0288462</td><td> 1.2100521</td><td> 1</td><td> 0.8622754</td><td> 1.4826</td><td>  0</td><td>  4</td><td>  4</td><td> 0.84850714</td><td>-0.45168963</td><td>0.05932769</td></tr>\n",
              "\t<tr><th scope=row>Q55</th><td>118</td><td>415</td><td> 0.2650602</td><td> 0.6461394</td><td> 0</td><td> 0.1051051</td><td> 0.0000</td><td>  0</td><td>  4</td><td>  4</td><td> 2.95514111</td><td> 9.99954125</td><td>0.03171773</td></tr>\n",
              "\t<tr><th scope=row>Q56</th><td>119</td><td>417</td><td> 2.2014388</td><td> 1.1960262</td><td> 2</td><td> 2.2507463</td><td> 1.4826</td><td>  0</td><td>  4</td><td>  4</td><td>-0.23971801</td><td>-0.77305892</td><td>0.05856966</td></tr>\n",
              "\t<tr><th scope=row>Q57</th><td>120</td><td>417</td><td> 2.1942446</td><td> 1.3509845</td><td> 2</td><td> 2.2417910</td><td> 1.4826</td><td>  0</td><td>  4</td><td>  4</td><td>-0.23195978</td><td>-1.11114439</td><td>0.06615800</td></tr>\n",
              "\t<tr><th scope=row>Q58</th><td>121</td><td>416</td><td> 0.7620192</td><td> 1.0882061</td><td> 0</td><td> 0.5538922</td><td> 0.0000</td><td>  0</td><td>  4</td><td>  4</td><td> 1.33090430</td><td> 0.85667235</td><td>0.05335369</td></tr>\n",
              "\t<tr><th scope=row>Q59</th><td>122</td><td>416</td><td> 1.3774038</td><td> 1.2741618</td><td> 1</td><td> 1.2514970</td><td> 1.4826</td><td>  0</td><td>  4</td><td>  4</td><td> 0.52503929</td><td>-0.81595588</td><td>0.06247092</td></tr>\n",
              "\t<tr><th scope=row>Q60</th><td>123</td><td>416</td><td>-0.3509615</td><td> 1.0352342</td><td> 0</td><td>-0.3712575</td><td> 1.4826</td><td> -2</td><td>  2</td><td>  4</td><td> 0.26923777</td><td>-0.43944260</td><td>0.05075653</td></tr>\n",
              "\t<tr><th scope=row>Q61</th><td>124</td><td>415</td><td> 2.0939759</td><td> 1.3825473</td><td> 2</td><td> 2.1171171</td><td> 1.4826</td><td>  0</td><td>  4</td><td>  4</td><td>-0.04781950</td><td>-1.22406177</td><td>0.06786658</td></tr>\n",
              "\t<tr><th scope=row>Q62</th><td>125</td><td>414</td><td> 2.0338164</td><td> 1.2088521</td><td> 2</td><td> 2.0421687</td><td> 1.4826</td><td>  0</td><td>  4</td><td>  4</td><td>-0.04819003</td><td>-0.79587917</td><td>0.05941184</td></tr>\n",
              "\t<tr><th scope=row>Q63</th><td>126</td><td>416</td><td> 1.8004808</td><td> 1.3991735</td><td> 2</td><td> 1.7514970</td><td> 1.4826</td><td>  0</td><td>  4</td><td>  4</td><td> 0.18832761</td><td>-1.24531515</td><td>0.06860013</td></tr>\n",
              "\t<tr><th scope=row>Q64</th><td>127</td><td>413</td><td> 1.6537530</td><td> 1.1920924</td><td> 2</td><td> 1.5951662</td><td> 1.4826</td><td>  0</td><td>  4</td><td>  4</td><td> 0.26915355</td><td>-0.81220333</td><td>0.05865903</td></tr>\n",
              "\t<tr><th scope=row>ID</th><td>128</td><td>417</td><td>29.0000000</td><td>15.1853928</td><td>29</td><td>28.9582090</td><td>17.7912</td><td> -3</td><td> 66</td><td> 69</td><td> 0.01336661</td><td>-0.87144978</td><td>0.74363188</td></tr>\n",
              "\t<tr><th scope=row>S</th><td>129</td><td>417</td><td> 9.2110312</td><td> 5.8452457</td><td> 8</td><td> 8.8626866</td><td> 5.9304</td><td>  0</td><td> 28</td><td> 28</td><td> 0.52523155</td><td>-0.30440379</td><td>0.28624291</td></tr>\n",
              "\t<tr><th scope=row>IR</th><td>130</td><td>417</td><td> 4.0407674</td><td> 5.8823209</td><td> 3</td><td> 3.6328358</td><td> 5.9304</td><td> -6</td><td> 24</td><td> 30</td><td> 0.68220554</td><td> 0.36475044</td><td>0.28805849</td></tr>\n",
              "\t<tr><th scope=row>SP</th><td>131</td><td>417</td><td> 4.0287770</td><td> 5.8825963</td><td> 2</td><td> 3.1671642</td><td> 4.4478</td><td> -2</td><td> 30</td><td> 32</td><td> 1.28350274</td><td> 1.58990529</td><td>0.28807198</td></tr>\n",
              "\t<tr><th scope=row>BD</th><td>132</td><td>417</td><td>13.6810552</td><td> 8.0051937</td><td>13</td><td>13.5223881</td><td> 8.8956</td><td> -4</td><td> 37</td><td> 41</td><td> 0.16916774</td><td>-0.42860007</td><td>0.39201602</td></tr>\n",
              "\t<tr><th scope=row>CI</th><td>133</td><td>417</td><td> 9.0863309</td><td> 6.2528632</td><td> 8</td><td> 8.5164179</td><td> 5.9304</td><td>  0</td><td> 36</td><td> 36</td><td> 0.94101443</td><td> 1.08402040</td><td>0.30620403</td></tr>\n",
              "\t<tr><th scope=row>SCORE</th><td>134</td><td>417</td><td>69.0479616</td><td>38.6093303</td><td>69</td><td>68.1522388</td><td>41.5128</td><td>-10</td><td>214</td><td>224</td><td> 0.26733057</td><td>-0.17028594</td><td>1.89070704</td></tr>\n",
              "</tbody>\n",
              "</table>\n"
            ],
            "text/markdown": "\nA psych: 134 × 13\n\n| <!--/--> | vars &lt;int&gt; | n &lt;dbl&gt; | mean &lt;dbl&gt; | sd &lt;dbl&gt; | median &lt;dbl&gt; | trimmed &lt;dbl&gt; | mad &lt;dbl&gt; | min &lt;dbl&gt; | max &lt;dbl&gt; | range &lt;dbl&gt; | skew &lt;dbl&gt; | kurtosis &lt;dbl&gt; | se &lt;dbl&gt; |\n|---|---|---|---|---|---|---|---|---|---|---|---|---|---|\n| CID |  1 | 417 | 4.589204e+03 | 855.4372753 | 4623.0 | 4587.1582090 | 1073.4024 | 3111 | 6269 | 3158 |  0.005653123 | -1.1330093 | 41.890943599 |\n| Relationship_to_client |  2 | 417 | 0.000000e+00 |   0.0000000 |    0.0 |    0.0000000 |    0.0000 |    0 |    0 |    0 |          NaN |        NaN |  0.000000000 |\n| TimeInstance |  3 | 417 | 1.000000e+00 |   0.0000000 |    1.0 |    1.0000000 |    0.0000 |    1 |    1 |    0 |          NaN |        NaN |  0.000000000 |\n| LOS |  4 | 416 | 2.970409e+02 | 140.5687784 |  305.5 |  296.4161677 |  128.9862 |    3 |  743 |  740 |  0.077276786 | -0.1197712 |  6.891951385 |\n| ReligPref |  5 | 121 | 1.006612e+01 |   8.1911899 |   10.0 |    9.4432990 |   10.3782 |    0 |   25 |   25 |  0.410265911 | -1.1135970 |  0.744653629 |\n| ReligSimp |  6 | 121 | 4.181818e+00 |   2.3021729 |    6.0 |    4.4226804 |    0.0000 |    0 |    6 |    6 | -0.635089989 | -1.3913465 |  0.209288444 |\n| Race |  7 | 397 | 1.375315e+00 |   1.0287264 |    1.0 |    1.0626959 |    0.0000 |    1 |    6 |    5 |  2.730537530 |  6.2780484 |  0.051630298 |\n| Ethnicity |  8 | 387 | 8.527132e-02 |   0.2796466 |    0.0 |    0.0000000 |    0.0000 |    0 |    1 |    1 |  2.958427569 |  6.7698067 |  0.014215233 |\n| MaritalStat |  9 | 413 | 2.012107e+00 |   1.8688423 |    1.0 |    1.5377644 |    0.0000 |    1 |    9 |    8 |  1.938932447 |  2.5255548 |  0.091959718 |\n| Positivity | 10 | 406 | 8.522167e+00 |   2.1712490 |    9.0 |    8.9877301 |    1.4826 |    0 |   10 |   10 | -1.944444456 |  3.7000300 |  0.107757278 |\n| Sense | 11 | 404 | 6.297030e+00 |   3.2452892 |    7.0 |    6.5740741 |    4.4478 |    0 |   10 |   10 | -0.488884652 | -1.0139572 |  0.161459171 |\n| Gender | 12 | 174 | 2.522989e+00 |   1.2978596 |    2.0 |    2.1571429 |    0.0000 |    1 |    7 |    6 |  2.284219239 |  3.8504668 |  0.098390483 |\n| Sexuality | 13 | 414 | 2.311594e+00 |   1.3429074 |    2.0 |    2.0963855 |    1.4826 |    1 |    6 |    5 |  1.199097378 |  0.5922809 |  0.066000299 |\n| Transport | 14 | 412 | 2.815534e-01 |   0.4503035 |    0.0 |    0.2272727 |    0.0000 |    0 |    1 |    1 |  0.967864507 | -1.0658075 |  0.022184862 |\n| Wilderness | 15 | 408 | 3.112745e-01 |   0.4635832 |    0.0 |    0.2652439 |    0.0000 |    0 |    1 |    1 |  0.812207639 | -1.3435939 |  0.022950791 |\n| Acute_Psych | 16 | 409 | 7.334963e-01 |   0.4426721 |    1.0 |    0.7902736 |    0.0000 |    0 |    1 |    1 | -1.052361069 | -0.8947058 |  0.021888726 |\n| Residential | 17 | 408 | 5.000000e-01 |   0.5006139 |    0.5 |    0.5000000 |    0.7413 |    0 |    1 |    1 |  0.000000000 | -2.0048960 |  0.024784080 |\n| Outpatient | 18 | 407 | 9.582310e-01 |   0.2003072 |    1.0 |    1.0000000 |    0.0000 |    0 |    1 |    1 | -4.564040653 | 18.8768657 |  0.009928859 |\n| Adopted | 19 | 408 | 2.205882e-01 |   0.4151524 |    0.0 |    0.1524390 |    0.0000 |    0 |    1 |    1 |  1.342769294 | -0.1974365 |  0.020553105 |\n| Annual_Income | 20 | 391 | 3.567775e+00 |   0.8652167 |    4.0 |    3.7795527 |    0.0000 |    1 |    4 |    3 | -1.890843244 |  2.3131457 |  0.043755888 |\n| P_Prescribe_Meds | 21 | 410 | 9.390244e-01 |   0.2395779 |    1.0 |    1.0000000 |    0.0000 |    0 |    1 |    1 | -3.656043115 | 11.3944605 |  0.011831910 |\n| P_Meds_Adherance | 22 | 384 | 2.643229e+00 |   0.6005272 |    3.0 |    2.7597403 |    0.0000 |    1 |    3 |    2 | -1.463728224 |  1.0362619 |  0.030645524 |\n| C_Prescribe_Meds | 23 | 415 | 8.337349e-01 |   0.3727678 |    1.0 |    0.9159159 |    0.0000 |    0 |    1 |    1 | -1.786263569 |  1.1936312 |  0.018298451 |\n| C_Meds_Adherance | 24 | 352 | 2.849432e+00 |   0.4303973 |    3.0 |    2.9716312 |    0.0000 |    1 |    3 |    2 | -2.937155891 |  8.1212329 |  0.022940254 |\n| ClientAgeAdmit | 25 | 417 | 1.554916e+01 |   1.1573783 |   16.0 |   15.6119403 |    1.4826 |   12 |   17 |    5 | -0.402338158 | -0.5567427 |  0.056677059 |\n| Completion* | 26 | 417 | 1.302158e+00 |   0.4597451 |    1.0 |    1.2537313 |    0.0000 |    1 |    2 |    1 |  0.858594477 | -1.2658339 |  0.022513813 |\n| Backslide | 27 | 409 | 1.745721e+00 |   0.4359883 |    2.0 |    1.8054711 |    0.0000 |    1 |    2 |    1 | -1.124436024 | -0.7374287 |  0.021558235 |\n| PointSheet | 28 | 409 | 1.814181e+00 |   0.3894370 |    2.0 |    1.8905775 |    0.0000 |    1 |    2 |    1 | -1.609568607 |  0.5921769 |  0.019256419 |\n| Safety_Admit_Level | 29 | 395 | 5.081013e+00 |   9.1642385 |    3.0 |    3.1577287 |    1.4826 |    0 |   89 |   89 |  5.276411254 | 32.8269953 |  0.461102883 |\n| Level1 | 30 | 351 | 4.677208e+01 |  37.9559055 |   39.0 |   41.1637011 |   29.6520 |    0 |  208 |  208 |  1.515754269 |  2.6242531 |  2.025936357 |\n| ⋮ | ⋮ | ⋮ | ⋮ | ⋮ | ⋮ | ⋮ | ⋮ | ⋮ | ⋮ | ⋮ | ⋮ | ⋮ | ⋮ |\n| Q42 | 105 | 415 |  2.1542169 |  1.3514441 |  2 |  2.1921922 |  1.4826 |   0 |   4 |   4 | -0.23365984 | -1.10051984 | 0.06633978 |\n| Q43 | 106 | 415 |  1.3542169 |  1.1660766 |  1 |  1.2462462 |  1.4826 |   0 |   4 |   4 |  0.55373111 | -0.50752635 | 0.05724045 |\n| Q44 | 107 | 417 |  1.4580336 |  1.1843486 |  1 |  1.3671642 |  1.4826 |   0 |   4 |   4 |  0.40291759 | -0.66623178 | 0.05799780 |\n| Q45 | 108 | 417 |  0.3141487 |  1.1826536 |  0 |  0.3582090 |  1.4826 |  -2 |   2 |   4 | -0.18018470 | -0.83935336 | 0.05791480 |\n| Q46 | 109 | 416 |  1.0408654 |  1.2765780 |  0 |  0.8413174 |  0.0000 |   0 |   4 |   4 |  0.95681069 | -0.26749348 | 0.06258938 |\n| Q47 | 110 | 416 | -1.0096154 |  1.0709320 | -1 | -1.1706587 |  1.4826 |  -2 |   2 |   4 |  0.92323986 |  0.11750727 | 0.05250676 |\n| Q48 | 111 | 417 |  0.8633094 |  0.9572706 |  1 |  0.7343284 |  1.4826 |   0 |   4 |   4 |  1.02895311 |  0.63230854 | 0.04687774 |\n| Q49 | 112 | 417 |  1.9976019 |  1.0059888 |  2 |  2.0029851 |  1.4826 |   0 |   4 |   4 | -0.02348732 | -0.21623242 | 0.04926348 |\n| Q50 | 113 | 416 |  0.9302885 |  1.2252154 |  0 |  0.7275449 |  0.0000 |   0 |   4 |   4 |  1.07359007 | -0.03460516 | 0.06007113 |\n| Q51 | 114 | 416 |  0.5216346 |  0.9101904 |  0 |  0.3203593 |  0.0000 |   0 |   4 |   4 |  1.84878618 |  2.88015991 | 0.04462575 |\n| Q52 | 115 | 414 |  0.9830918 |  1.1591113 |  1 |  0.8042169 |  1.4826 |   0 |   4 |   4 |  0.96342833 | -0.05067859 | 0.05696721 |\n| Q53 | 116 | 416 | -0.2355769 |  1.2073205 |  0 | -0.2844311 |  1.4826 |  -2 |   2 |   4 |  0.17067655 | -0.87858297 | 0.05919376 |\n| Q54 | 117 | 416 |  1.0288462 |  1.2100521 |  1 |  0.8622754 |  1.4826 |   0 |   4 |   4 |  0.84850714 | -0.45168963 | 0.05932769 |\n| Q55 | 118 | 415 |  0.2650602 |  0.6461394 |  0 |  0.1051051 |  0.0000 |   0 |   4 |   4 |  2.95514111 |  9.99954125 | 0.03171773 |\n| Q56 | 119 | 417 |  2.2014388 |  1.1960262 |  2 |  2.2507463 |  1.4826 |   0 |   4 |   4 | -0.23971801 | -0.77305892 | 0.05856966 |\n| Q57 | 120 | 417 |  2.1942446 |  1.3509845 |  2 |  2.2417910 |  1.4826 |   0 |   4 |   4 | -0.23195978 | -1.11114439 | 0.06615800 |\n| Q58 | 121 | 416 |  0.7620192 |  1.0882061 |  0 |  0.5538922 |  0.0000 |   0 |   4 |   4 |  1.33090430 |  0.85667235 | 0.05335369 |\n| Q59 | 122 | 416 |  1.3774038 |  1.2741618 |  1 |  1.2514970 |  1.4826 |   0 |   4 |   4 |  0.52503929 | -0.81595588 | 0.06247092 |\n| Q60 | 123 | 416 | -0.3509615 |  1.0352342 |  0 | -0.3712575 |  1.4826 |  -2 |   2 |   4 |  0.26923777 | -0.43944260 | 0.05075653 |\n| Q61 | 124 | 415 |  2.0939759 |  1.3825473 |  2 |  2.1171171 |  1.4826 |   0 |   4 |   4 | -0.04781950 | -1.22406177 | 0.06786658 |\n| Q62 | 125 | 414 |  2.0338164 |  1.2088521 |  2 |  2.0421687 |  1.4826 |   0 |   4 |   4 | -0.04819003 | -0.79587917 | 0.05941184 |\n| Q63 | 126 | 416 |  1.8004808 |  1.3991735 |  2 |  1.7514970 |  1.4826 |   0 |   4 |   4 |  0.18832761 | -1.24531515 | 0.06860013 |\n| Q64 | 127 | 413 |  1.6537530 |  1.1920924 |  2 |  1.5951662 |  1.4826 |   0 |   4 |   4 |  0.26915355 | -0.81220333 | 0.05865903 |\n| ID | 128 | 417 | 29.0000000 | 15.1853928 | 29 | 28.9582090 | 17.7912 |  -3 |  66 |  69 |  0.01336661 | -0.87144978 | 0.74363188 |\n| S | 129 | 417 |  9.2110312 |  5.8452457 |  8 |  8.8626866 |  5.9304 |   0 |  28 |  28 |  0.52523155 | -0.30440379 | 0.28624291 |\n| IR | 130 | 417 |  4.0407674 |  5.8823209 |  3 |  3.6328358 |  5.9304 |  -6 |  24 |  30 |  0.68220554 |  0.36475044 | 0.28805849 |\n| SP | 131 | 417 |  4.0287770 |  5.8825963 |  2 |  3.1671642 |  4.4478 |  -2 |  30 |  32 |  1.28350274 |  1.58990529 | 0.28807198 |\n| BD | 132 | 417 | 13.6810552 |  8.0051937 | 13 | 13.5223881 |  8.8956 |  -4 |  37 |  41 |  0.16916774 | -0.42860007 | 0.39201602 |\n| CI | 133 | 417 |  9.0863309 |  6.2528632 |  8 |  8.5164179 |  5.9304 |   0 |  36 |  36 |  0.94101443 |  1.08402040 | 0.30620403 |\n| SCORE | 134 | 417 | 69.0479616 | 38.6093303 | 69 | 68.1522388 | 41.5128 | -10 | 214 | 224 |  0.26733057 | -0.17028594 | 1.89070704 |\n\n",
            "text/latex": "A psych: 134 × 13\n\\begin{tabular}{r|lllllllllllll}\n  & vars & n & mean & sd & median & trimmed & mad & min & max & range & skew & kurtosis & se\\\\\n  & <int> & <dbl> & <dbl> & <dbl> & <dbl> & <dbl> & <dbl> & <dbl> & <dbl> & <dbl> & <dbl> & <dbl> & <dbl>\\\\\n\\hline\n\tCID &  1 & 417 & 4.589204e+03 & 855.4372753 & 4623.0 & 4587.1582090 & 1073.4024 & 3111 & 6269 & 3158 &  0.005653123 & -1.1330093 & 41.890943599\\\\\n\tRelationship\\_to\\_client &  2 & 417 & 0.000000e+00 &   0.0000000 &    0.0 &    0.0000000 &    0.0000 &    0 &    0 &    0 &          NaN &        NaN &  0.000000000\\\\\n\tTimeInstance &  3 & 417 & 1.000000e+00 &   0.0000000 &    1.0 &    1.0000000 &    0.0000 &    1 &    1 &    0 &          NaN &        NaN &  0.000000000\\\\\n\tLOS &  4 & 416 & 2.970409e+02 & 140.5687784 &  305.5 &  296.4161677 &  128.9862 &    3 &  743 &  740 &  0.077276786 & -0.1197712 &  6.891951385\\\\\n\tReligPref &  5 & 121 & 1.006612e+01 &   8.1911899 &   10.0 &    9.4432990 &   10.3782 &    0 &   25 &   25 &  0.410265911 & -1.1135970 &  0.744653629\\\\\n\tReligSimp &  6 & 121 & 4.181818e+00 &   2.3021729 &    6.0 &    4.4226804 &    0.0000 &    0 &    6 &    6 & -0.635089989 & -1.3913465 &  0.209288444\\\\\n\tRace &  7 & 397 & 1.375315e+00 &   1.0287264 &    1.0 &    1.0626959 &    0.0000 &    1 &    6 &    5 &  2.730537530 &  6.2780484 &  0.051630298\\\\\n\tEthnicity &  8 & 387 & 8.527132e-02 &   0.2796466 &    0.0 &    0.0000000 &    0.0000 &    0 &    1 &    1 &  2.958427569 &  6.7698067 &  0.014215233\\\\\n\tMaritalStat &  9 & 413 & 2.012107e+00 &   1.8688423 &    1.0 &    1.5377644 &    0.0000 &    1 &    9 &    8 &  1.938932447 &  2.5255548 &  0.091959718\\\\\n\tPositivity & 10 & 406 & 8.522167e+00 &   2.1712490 &    9.0 &    8.9877301 &    1.4826 &    0 &   10 &   10 & -1.944444456 &  3.7000300 &  0.107757278\\\\\n\tSense & 11 & 404 & 6.297030e+00 &   3.2452892 &    7.0 &    6.5740741 &    4.4478 &    0 &   10 &   10 & -0.488884652 & -1.0139572 &  0.161459171\\\\\n\tGender & 12 & 174 & 2.522989e+00 &   1.2978596 &    2.0 &    2.1571429 &    0.0000 &    1 &    7 &    6 &  2.284219239 &  3.8504668 &  0.098390483\\\\\n\tSexuality & 13 & 414 & 2.311594e+00 &   1.3429074 &    2.0 &    2.0963855 &    1.4826 &    1 &    6 &    5 &  1.199097378 &  0.5922809 &  0.066000299\\\\\n\tTransport & 14 & 412 & 2.815534e-01 &   0.4503035 &    0.0 &    0.2272727 &    0.0000 &    0 &    1 &    1 &  0.967864507 & -1.0658075 &  0.022184862\\\\\n\tWilderness & 15 & 408 & 3.112745e-01 &   0.4635832 &    0.0 &    0.2652439 &    0.0000 &    0 &    1 &    1 &  0.812207639 & -1.3435939 &  0.022950791\\\\\n\tAcute\\_Psych & 16 & 409 & 7.334963e-01 &   0.4426721 &    1.0 &    0.7902736 &    0.0000 &    0 &    1 &    1 & -1.052361069 & -0.8947058 &  0.021888726\\\\\n\tResidential & 17 & 408 & 5.000000e-01 &   0.5006139 &    0.5 &    0.5000000 &    0.7413 &    0 &    1 &    1 &  0.000000000 & -2.0048960 &  0.024784080\\\\\n\tOutpatient & 18 & 407 & 9.582310e-01 &   0.2003072 &    1.0 &    1.0000000 &    0.0000 &    0 &    1 &    1 & -4.564040653 & 18.8768657 &  0.009928859\\\\\n\tAdopted & 19 & 408 & 2.205882e-01 &   0.4151524 &    0.0 &    0.1524390 &    0.0000 &    0 &    1 &    1 &  1.342769294 & -0.1974365 &  0.020553105\\\\\n\tAnnual\\_Income & 20 & 391 & 3.567775e+00 &   0.8652167 &    4.0 &    3.7795527 &    0.0000 &    1 &    4 &    3 & -1.890843244 &  2.3131457 &  0.043755888\\\\\n\tP\\_Prescribe\\_Meds & 21 & 410 & 9.390244e-01 &   0.2395779 &    1.0 &    1.0000000 &    0.0000 &    0 &    1 &    1 & -3.656043115 & 11.3944605 &  0.011831910\\\\\n\tP\\_Meds\\_Adherance & 22 & 384 & 2.643229e+00 &   0.6005272 &    3.0 &    2.7597403 &    0.0000 &    1 &    3 &    2 & -1.463728224 &  1.0362619 &  0.030645524\\\\\n\tC\\_Prescribe\\_Meds & 23 & 415 & 8.337349e-01 &   0.3727678 &    1.0 &    0.9159159 &    0.0000 &    0 &    1 &    1 & -1.786263569 &  1.1936312 &  0.018298451\\\\\n\tC\\_Meds\\_Adherance & 24 & 352 & 2.849432e+00 &   0.4303973 &    3.0 &    2.9716312 &    0.0000 &    1 &    3 &    2 & -2.937155891 &  8.1212329 &  0.022940254\\\\\n\tClientAgeAdmit & 25 & 417 & 1.554916e+01 &   1.1573783 &   16.0 &   15.6119403 &    1.4826 &   12 &   17 &    5 & -0.402338158 & -0.5567427 &  0.056677059\\\\\n\tCompletion* & 26 & 417 & 1.302158e+00 &   0.4597451 &    1.0 &    1.2537313 &    0.0000 &    1 &    2 &    1 &  0.858594477 & -1.2658339 &  0.022513813\\\\\n\tBackslide & 27 & 409 & 1.745721e+00 &   0.4359883 &    2.0 &    1.8054711 &    0.0000 &    1 &    2 &    1 & -1.124436024 & -0.7374287 &  0.021558235\\\\\n\tPointSheet & 28 & 409 & 1.814181e+00 &   0.3894370 &    2.0 &    1.8905775 &    0.0000 &    1 &    2 &    1 & -1.609568607 &  0.5921769 &  0.019256419\\\\\n\tSafety\\_Admit\\_Level & 29 & 395 & 5.081013e+00 &   9.1642385 &    3.0 &    3.1577287 &    1.4826 &    0 &   89 &   89 &  5.276411254 & 32.8269953 &  0.461102883\\\\\n\tLevel1 & 30 & 351 & 4.677208e+01 &  37.9559055 &   39.0 &   41.1637011 &   29.6520 &    0 &  208 &  208 &  1.515754269 &  2.6242531 &  2.025936357\\\\\n\t⋮ & ⋮ & ⋮ & ⋮ & ⋮ & ⋮ & ⋮ & ⋮ & ⋮ & ⋮ & ⋮ & ⋮ & ⋮ & ⋮\\\\\n\tQ42 & 105 & 415 &  2.1542169 &  1.3514441 &  2 &  2.1921922 &  1.4826 &   0 &   4 &   4 & -0.23365984 & -1.10051984 & 0.06633978\\\\\n\tQ43 & 106 & 415 &  1.3542169 &  1.1660766 &  1 &  1.2462462 &  1.4826 &   0 &   4 &   4 &  0.55373111 & -0.50752635 & 0.05724045\\\\\n\tQ44 & 107 & 417 &  1.4580336 &  1.1843486 &  1 &  1.3671642 &  1.4826 &   0 &   4 &   4 &  0.40291759 & -0.66623178 & 0.05799780\\\\\n\tQ45 & 108 & 417 &  0.3141487 &  1.1826536 &  0 &  0.3582090 &  1.4826 &  -2 &   2 &   4 & -0.18018470 & -0.83935336 & 0.05791480\\\\\n\tQ46 & 109 & 416 &  1.0408654 &  1.2765780 &  0 &  0.8413174 &  0.0000 &   0 &   4 &   4 &  0.95681069 & -0.26749348 & 0.06258938\\\\\n\tQ47 & 110 & 416 & -1.0096154 &  1.0709320 & -1 & -1.1706587 &  1.4826 &  -2 &   2 &   4 &  0.92323986 &  0.11750727 & 0.05250676\\\\\n\tQ48 & 111 & 417 &  0.8633094 &  0.9572706 &  1 &  0.7343284 &  1.4826 &   0 &   4 &   4 &  1.02895311 &  0.63230854 & 0.04687774\\\\\n\tQ49 & 112 & 417 &  1.9976019 &  1.0059888 &  2 &  2.0029851 &  1.4826 &   0 &   4 &   4 & -0.02348732 & -0.21623242 & 0.04926348\\\\\n\tQ50 & 113 & 416 &  0.9302885 &  1.2252154 &  0 &  0.7275449 &  0.0000 &   0 &   4 &   4 &  1.07359007 & -0.03460516 & 0.06007113\\\\\n\tQ51 & 114 & 416 &  0.5216346 &  0.9101904 &  0 &  0.3203593 &  0.0000 &   0 &   4 &   4 &  1.84878618 &  2.88015991 & 0.04462575\\\\\n\tQ52 & 115 & 414 &  0.9830918 &  1.1591113 &  1 &  0.8042169 &  1.4826 &   0 &   4 &   4 &  0.96342833 & -0.05067859 & 0.05696721\\\\\n\tQ53 & 116 & 416 & -0.2355769 &  1.2073205 &  0 & -0.2844311 &  1.4826 &  -2 &   2 &   4 &  0.17067655 & -0.87858297 & 0.05919376\\\\\n\tQ54 & 117 & 416 &  1.0288462 &  1.2100521 &  1 &  0.8622754 &  1.4826 &   0 &   4 &   4 &  0.84850714 & -0.45168963 & 0.05932769\\\\\n\tQ55 & 118 & 415 &  0.2650602 &  0.6461394 &  0 &  0.1051051 &  0.0000 &   0 &   4 &   4 &  2.95514111 &  9.99954125 & 0.03171773\\\\\n\tQ56 & 119 & 417 &  2.2014388 &  1.1960262 &  2 &  2.2507463 &  1.4826 &   0 &   4 &   4 & -0.23971801 & -0.77305892 & 0.05856966\\\\\n\tQ57 & 120 & 417 &  2.1942446 &  1.3509845 &  2 &  2.2417910 &  1.4826 &   0 &   4 &   4 & -0.23195978 & -1.11114439 & 0.06615800\\\\\n\tQ58 & 121 & 416 &  0.7620192 &  1.0882061 &  0 &  0.5538922 &  0.0000 &   0 &   4 &   4 &  1.33090430 &  0.85667235 & 0.05335369\\\\\n\tQ59 & 122 & 416 &  1.3774038 &  1.2741618 &  1 &  1.2514970 &  1.4826 &   0 &   4 &   4 &  0.52503929 & -0.81595588 & 0.06247092\\\\\n\tQ60 & 123 & 416 & -0.3509615 &  1.0352342 &  0 & -0.3712575 &  1.4826 &  -2 &   2 &   4 &  0.26923777 & -0.43944260 & 0.05075653\\\\\n\tQ61 & 124 & 415 &  2.0939759 &  1.3825473 &  2 &  2.1171171 &  1.4826 &   0 &   4 &   4 & -0.04781950 & -1.22406177 & 0.06786658\\\\\n\tQ62 & 125 & 414 &  2.0338164 &  1.2088521 &  2 &  2.0421687 &  1.4826 &   0 &   4 &   4 & -0.04819003 & -0.79587917 & 0.05941184\\\\\n\tQ63 & 126 & 416 &  1.8004808 &  1.3991735 &  2 &  1.7514970 &  1.4826 &   0 &   4 &   4 &  0.18832761 & -1.24531515 & 0.06860013\\\\\n\tQ64 & 127 & 413 &  1.6537530 &  1.1920924 &  2 &  1.5951662 &  1.4826 &   0 &   4 &   4 &  0.26915355 & -0.81220333 & 0.05865903\\\\\n\tID & 128 & 417 & 29.0000000 & 15.1853928 & 29 & 28.9582090 & 17.7912 &  -3 &  66 &  69 &  0.01336661 & -0.87144978 & 0.74363188\\\\\n\tS & 129 & 417 &  9.2110312 &  5.8452457 &  8 &  8.8626866 &  5.9304 &   0 &  28 &  28 &  0.52523155 & -0.30440379 & 0.28624291\\\\\n\tIR & 130 & 417 &  4.0407674 &  5.8823209 &  3 &  3.6328358 &  5.9304 &  -6 &  24 &  30 &  0.68220554 &  0.36475044 & 0.28805849\\\\\n\tSP & 131 & 417 &  4.0287770 &  5.8825963 &  2 &  3.1671642 &  4.4478 &  -2 &  30 &  32 &  1.28350274 &  1.58990529 & 0.28807198\\\\\n\tBD & 132 & 417 & 13.6810552 &  8.0051937 & 13 & 13.5223881 &  8.8956 &  -4 &  37 &  41 &  0.16916774 & -0.42860007 & 0.39201602\\\\\n\tCI & 133 & 417 &  9.0863309 &  6.2528632 &  8 &  8.5164179 &  5.9304 &   0 &  36 &  36 &  0.94101443 &  1.08402040 & 0.30620403\\\\\n\tSCORE & 134 & 417 & 69.0479616 & 38.6093303 & 69 & 68.1522388 & 41.5128 & -10 & 214 & 224 &  0.26733057 & -0.17028594 & 1.89070704\\\\\n\\end{tabular}\n",
            "text/plain": [
              "                       vars n   mean         sd          median trimmed     \n",
              "CID                     1   417 4.589204e+03 855.4372753 4623.0 4587.1582090\n",
              "Relationship_to_client  2   417 0.000000e+00   0.0000000    0.0    0.0000000\n",
              "TimeInstance            3   417 1.000000e+00   0.0000000    1.0    1.0000000\n",
              "LOS                     4   416 2.970409e+02 140.5687784  305.5  296.4161677\n",
              "ReligPref               5   121 1.006612e+01   8.1911899   10.0    9.4432990\n",
              "ReligSimp               6   121 4.181818e+00   2.3021729    6.0    4.4226804\n",
              "Race                    7   397 1.375315e+00   1.0287264    1.0    1.0626959\n",
              "Ethnicity               8   387 8.527132e-02   0.2796466    0.0    0.0000000\n",
              "MaritalStat             9   413 2.012107e+00   1.8688423    1.0    1.5377644\n",
              "Positivity             10   406 8.522167e+00   2.1712490    9.0    8.9877301\n",
              "Sense                  11   404 6.297030e+00   3.2452892    7.0    6.5740741\n",
              "Gender                 12   174 2.522989e+00   1.2978596    2.0    2.1571429\n",
              "Sexuality              13   414 2.311594e+00   1.3429074    2.0    2.0963855\n",
              "Transport              14   412 2.815534e-01   0.4503035    0.0    0.2272727\n",
              "Wilderness             15   408 3.112745e-01   0.4635832    0.0    0.2652439\n",
              "Acute_Psych            16   409 7.334963e-01   0.4426721    1.0    0.7902736\n",
              "Residential            17   408 5.000000e-01   0.5006139    0.5    0.5000000\n",
              "Outpatient             18   407 9.582310e-01   0.2003072    1.0    1.0000000\n",
              "Adopted                19   408 2.205882e-01   0.4151524    0.0    0.1524390\n",
              "Annual_Income          20   391 3.567775e+00   0.8652167    4.0    3.7795527\n",
              "P_Prescribe_Meds       21   410 9.390244e-01   0.2395779    1.0    1.0000000\n",
              "P_Meds_Adherance       22   384 2.643229e+00   0.6005272    3.0    2.7597403\n",
              "C_Prescribe_Meds       23   415 8.337349e-01   0.3727678    1.0    0.9159159\n",
              "C_Meds_Adherance       24   352 2.849432e+00   0.4303973    3.0    2.9716312\n",
              "ClientAgeAdmit         25   417 1.554916e+01   1.1573783   16.0   15.6119403\n",
              "Completion*            26   417 1.302158e+00   0.4597451    1.0    1.2537313\n",
              "Backslide              27   409 1.745721e+00   0.4359883    2.0    1.8054711\n",
              "PointSheet             28   409 1.814181e+00   0.3894370    2.0    1.8905775\n",
              "Safety_Admit_Level     29   395 5.081013e+00   9.1642385    3.0    3.1577287\n",
              "Level1                 30   351 4.677208e+01  37.9559055   39.0   41.1637011\n",
              "⋮                      ⋮    ⋮   ⋮            ⋮           ⋮      ⋮           \n",
              "Q42                    105  415  2.1542169    1.3514441   2      2.1921922  \n",
              "Q43                    106  415  1.3542169    1.1660766   1      1.2462462  \n",
              "Q44                    107  417  1.4580336    1.1843486   1      1.3671642  \n",
              "Q45                    108  417  0.3141487    1.1826536   0      0.3582090  \n",
              "Q46                    109  416  1.0408654    1.2765780   0      0.8413174  \n",
              "Q47                    110  416 -1.0096154    1.0709320  -1     -1.1706587  \n",
              "Q48                    111  417  0.8633094    0.9572706   1      0.7343284  \n",
              "Q49                    112  417  1.9976019    1.0059888   2      2.0029851  \n",
              "Q50                    113  416  0.9302885    1.2252154   0      0.7275449  \n",
              "Q51                    114  416  0.5216346    0.9101904   0      0.3203593  \n",
              "Q52                    115  414  0.9830918    1.1591113   1      0.8042169  \n",
              "Q53                    116  416 -0.2355769    1.2073205   0     -0.2844311  \n",
              "Q54                    117  416  1.0288462    1.2100521   1      0.8622754  \n",
              "Q55                    118  415  0.2650602    0.6461394   0      0.1051051  \n",
              "Q56                    119  417  2.2014388    1.1960262   2      2.2507463  \n",
              "Q57                    120  417  2.1942446    1.3509845   2      2.2417910  \n",
              "Q58                    121  416  0.7620192    1.0882061   0      0.5538922  \n",
              "Q59                    122  416  1.3774038    1.2741618   1      1.2514970  \n",
              "Q60                    123  416 -0.3509615    1.0352342   0     -0.3712575  \n",
              "Q61                    124  415  2.0939759    1.3825473   2      2.1171171  \n",
              "Q62                    125  414  2.0338164    1.2088521   2      2.0421687  \n",
              "Q63                    126  416  1.8004808    1.3991735   2      1.7514970  \n",
              "Q64                    127  413  1.6537530    1.1920924   2      1.5951662  \n",
              "ID                     128  417 29.0000000   15.1853928  29     28.9582090  \n",
              "S                      129  417  9.2110312    5.8452457   8      8.8626866  \n",
              "IR                     130  417  4.0407674    5.8823209   3      3.6328358  \n",
              "SP                     131  417  4.0287770    5.8825963   2      3.1671642  \n",
              "BD                     132  417 13.6810552    8.0051937  13     13.5223881  \n",
              "CI                     133  417  9.0863309    6.2528632   8      8.5164179  \n",
              "SCORE                  134  417 69.0479616   38.6093303  69     68.1522388  \n",
              "                       mad       min  max  range skew         kurtosis   \n",
              "CID                    1073.4024 3111 6269 3158   0.005653123 -1.1330093 \n",
              "Relationship_to_client    0.0000    0    0    0           NaN        NaN \n",
              "TimeInstance              0.0000    1    1    0           NaN        NaN \n",
              "LOS                     128.9862    3  743  740   0.077276786 -0.1197712 \n",
              "ReligPref                10.3782    0   25   25   0.410265911 -1.1135970 \n",
              "ReligSimp                 0.0000    0    6    6  -0.635089989 -1.3913465 \n",
              "Race                      0.0000    1    6    5   2.730537530  6.2780484 \n",
              "Ethnicity                 0.0000    0    1    1   2.958427569  6.7698067 \n",
              "MaritalStat               0.0000    1    9    8   1.938932447  2.5255548 \n",
              "Positivity                1.4826    0   10   10  -1.944444456  3.7000300 \n",
              "Sense                     4.4478    0   10   10  -0.488884652 -1.0139572 \n",
              "Gender                    0.0000    1    7    6   2.284219239  3.8504668 \n",
              "Sexuality                 1.4826    1    6    5   1.199097378  0.5922809 \n",
              "Transport                 0.0000    0    1    1   0.967864507 -1.0658075 \n",
              "Wilderness                0.0000    0    1    1   0.812207639 -1.3435939 \n",
              "Acute_Psych               0.0000    0    1    1  -1.052361069 -0.8947058 \n",
              "Residential               0.7413    0    1    1   0.000000000 -2.0048960 \n",
              "Outpatient                0.0000    0    1    1  -4.564040653 18.8768657 \n",
              "Adopted                   0.0000    0    1    1   1.342769294 -0.1974365 \n",
              "Annual_Income             0.0000    1    4    3  -1.890843244  2.3131457 \n",
              "P_Prescribe_Meds          0.0000    0    1    1  -3.656043115 11.3944605 \n",
              "P_Meds_Adherance          0.0000    1    3    2  -1.463728224  1.0362619 \n",
              "C_Prescribe_Meds          0.0000    0    1    1  -1.786263569  1.1936312 \n",
              "C_Meds_Adherance          0.0000    1    3    2  -2.937155891  8.1212329 \n",
              "ClientAgeAdmit            1.4826   12   17    5  -0.402338158 -0.5567427 \n",
              "Completion*               0.0000    1    2    1   0.858594477 -1.2658339 \n",
              "Backslide                 0.0000    1    2    1  -1.124436024 -0.7374287 \n",
              "PointSheet                0.0000    1    2    1  -1.609568607  0.5921769 \n",
              "Safety_Admit_Level        1.4826    0   89   89   5.276411254 32.8269953 \n",
              "Level1                   29.6520    0  208  208   1.515754269  2.6242531 \n",
              "⋮                      ⋮         ⋮    ⋮    ⋮     ⋮            ⋮          \n",
              "Q42                     1.4826     0    4    4   -0.23365984  -1.10051984\n",
              "Q43                     1.4826     0    4    4    0.55373111  -0.50752635\n",
              "Q44                     1.4826     0    4    4    0.40291759  -0.66623178\n",
              "Q45                     1.4826    -2    2    4   -0.18018470  -0.83935336\n",
              "Q46                     0.0000     0    4    4    0.95681069  -0.26749348\n",
              "Q47                     1.4826    -2    2    4    0.92323986   0.11750727\n",
              "Q48                     1.4826     0    4    4    1.02895311   0.63230854\n",
              "Q49                     1.4826     0    4    4   -0.02348732  -0.21623242\n",
              "Q50                     0.0000     0    4    4    1.07359007  -0.03460516\n",
              "Q51                     0.0000     0    4    4    1.84878618   2.88015991\n",
              "Q52                     1.4826     0    4    4    0.96342833  -0.05067859\n",
              "Q53                     1.4826    -2    2    4    0.17067655  -0.87858297\n",
              "Q54                     1.4826     0    4    4    0.84850714  -0.45168963\n",
              "Q55                     0.0000     0    4    4    2.95514111   9.99954125\n",
              "Q56                     1.4826     0    4    4   -0.23971801  -0.77305892\n",
              "Q57                     1.4826     0    4    4   -0.23195978  -1.11114439\n",
              "Q58                     0.0000     0    4    4    1.33090430   0.85667235\n",
              "Q59                     1.4826     0    4    4    0.52503929  -0.81595588\n",
              "Q60                     1.4826    -2    2    4    0.26923777  -0.43944260\n",
              "Q61                     1.4826     0    4    4   -0.04781950  -1.22406177\n",
              "Q62                     1.4826     0    4    4   -0.04819003  -0.79587917\n",
              "Q63                     1.4826     0    4    4    0.18832761  -1.24531515\n",
              "Q64                     1.4826     0    4    4    0.26915355  -0.81220333\n",
              "ID                     17.7912    -3   66   69    0.01336661  -0.87144978\n",
              "S                       5.9304     0   28   28    0.52523155  -0.30440379\n",
              "IR                      5.9304    -6   24   30    0.68220554   0.36475044\n",
              "SP                      4.4478    -2   30   32    1.28350274   1.58990529\n",
              "BD                      8.8956    -4   37   41    0.16916774  -0.42860007\n",
              "CI                      5.9304     0   36   36    0.94101443   1.08402040\n",
              "SCORE                  41.5128   -10  214  224    0.26733057  -0.17028594\n",
              "                       se          \n",
              "CID                    41.890943599\n",
              "Relationship_to_client  0.000000000\n",
              "TimeInstance            0.000000000\n",
              "LOS                     6.891951385\n",
              "ReligPref               0.744653629\n",
              "ReligSimp               0.209288444\n",
              "Race                    0.051630298\n",
              "Ethnicity               0.014215233\n",
              "MaritalStat             0.091959718\n",
              "Positivity              0.107757278\n",
              "Sense                   0.161459171\n",
              "Gender                  0.098390483\n",
              "Sexuality               0.066000299\n",
              "Transport               0.022184862\n",
              "Wilderness              0.022950791\n",
              "Acute_Psych             0.021888726\n",
              "Residential             0.024784080\n",
              "Outpatient              0.009928859\n",
              "Adopted                 0.020553105\n",
              "Annual_Income           0.043755888\n",
              "P_Prescribe_Meds        0.011831910\n",
              "P_Meds_Adherance        0.030645524\n",
              "C_Prescribe_Meds        0.018298451\n",
              "C_Meds_Adherance        0.022940254\n",
              "ClientAgeAdmit          0.056677059\n",
              "Completion*             0.022513813\n",
              "Backslide               0.021558235\n",
              "PointSheet              0.019256419\n",
              "Safety_Admit_Level      0.461102883\n",
              "Level1                  2.025936357\n",
              "⋮                      ⋮           \n",
              "Q42                    0.06633978  \n",
              "Q43                    0.05724045  \n",
              "Q44                    0.05799780  \n",
              "Q45                    0.05791480  \n",
              "Q46                    0.06258938  \n",
              "Q47                    0.05250676  \n",
              "Q48                    0.04687774  \n",
              "Q49                    0.04926348  \n",
              "Q50                    0.06007113  \n",
              "Q51                    0.04462575  \n",
              "Q52                    0.05696721  \n",
              "Q53                    0.05919376  \n",
              "Q54                    0.05932769  \n",
              "Q55                    0.03171773  \n",
              "Q56                    0.05856966  \n",
              "Q57                    0.06615800  \n",
              "Q58                    0.05335369  \n",
              "Q59                    0.06247092  \n",
              "Q60                    0.05075653  \n",
              "Q61                    0.06786658  \n",
              "Q62                    0.05941184  \n",
              "Q63                    0.06860013  \n",
              "Q64                    0.05865903  \n",
              "ID                     0.74363188  \n",
              "S                      0.28624291  \n",
              "IR                     0.28805849  \n",
              "SP                     0.28807198  \n",
              "BD                     0.39201602  \n",
              "CI                     0.30620403  \n",
              "SCORE                  1.89070704  "
            ]
          },
          "metadata": {}
        }
      ]
    },
    {
      "cell_type": "markdown",
      "source": [
        "## Split Data Into Training and Testing Sets\n",
        "\n",
        "We first need to split our full data into a training set for our model to learn from, and then a test set to evaluate our models performance in cases that it has not seen before."
      ],
      "metadata": {
        "id": "zOPhygxzHtLb"
      }
    },
    {
      "cell_type": "code",
      "source": [
        "splits <- d %>%\n",
        "  initial_split(prop = 0.75, strata = \"Completion\") # splitting our data, stratifying the 0.75 (3/4) split on our outcome variable\n",
        "\n",
        "data_trn <- analysis(splits) # saving it into our training set\n",
        "data_trn %>%  nrow() # get count of training set rows, see if split seems right\n",
        "\n",
        "data_test <- assessment(splits) # saving it into our test set\n",
        "data_test %>% nrow() # get count of test set rows, see if split seems right"
      ],
      "metadata": {
        "id": "rZ4tAFYkijRr",
        "colab": {
          "base_uri": "https://localhost:8080/",
          "height": 52
        },
        "outputId": "61462047-a35f-4cc4-bd54-372242165884"
      },
      "execution_count": null,
      "outputs": [
        {
          "output_type": "display_data",
          "data": {
            "text/html": [
              "312"
            ],
            "text/markdown": "312",
            "text/latex": "312",
            "text/plain": [
              "[1] 312"
            ]
          },
          "metadata": {}
        },
        {
          "output_type": "display_data",
          "data": {
            "text/html": [
              "105"
            ],
            "text/markdown": "105",
            "text/latex": "105",
            "text/plain": [
              "[1] 105"
            ]
          },
          "metadata": {}
        }
      ]
    },
    {
      "cell_type": "markdown",
      "source": [
        "## Set Random Seed\n",
        "For reproducibility we will set a random seed."
      ],
      "metadata": {
        "id": "pWNGuV7zFxHC"
      }
    },
    {
      "cell_type": "code",
      "source": [
        "set.seed(12345) # random seed\n",
        "fit_seeds <- sample.int(10^5, size = 3) # we will be using a random seed within our model, so we are saving it here"
      ],
      "metadata": {
        "id": "mMopqSgMFwwH"
      },
      "execution_count": null,
      "outputs": []
    },
    {
      "cell_type": "markdown",
      "source": [
        "## Setting Up K-Fold Splits\n",
        "We will be using k-fold cross-validation for our neural network. This is advantageous because we are dealing with a fairly small dataset. By using k-fold cross-validation we have better data utilization by dividing the dataset into k subsets (\"or folds\"). Each fold serves as a validation set in every iteration, while the remaining k-1 folds are used for training. This maximizes the use of our data, enhances the model's overall robustness, and reduces overfitting.\n",
        "\n",
        "K-fold cross-validation also provides more reliable performance estimation by averaging performance metrics over *k* iterations. This helps assess the model's consistency and generalization on unseen data, which could vary greatly with a small data set like ours. Additionally, the k-fold cross-validation allows for hyperparameter tuning, as it allows evaluating different parameter configurations across various k subsets. This ultimately leads to more informed hyperparameter selection, ensuring a more stable performing neural network model, even with our small data set!"
      ],
      "metadata": {
        "id": "-h1sDb4JRp5K"
      }
    },
    {
      "cell_type": "code",
      "source": [
        "splits_kfold <- data_trn %>%\n",
        "  vfold_cv(v = 10, repeats = 1, strata = \"Completion\") # specifying that we want 10 folds stratified on our outcome variable \"Completion\" with just one repeat"
      ],
      "metadata": {
        "id": "pp2Z3VpWiHl1"
      },
      "execution_count": null,
      "outputs": []
    },
    {
      "cell_type": "markdown",
      "source": [
        "## Setting Up a Recipe\n",
        "\n",
        "In the tidymodels framework, a \"recipe\" serves as a data preprocessing/feature engineering for transforming our raw data into a format that is suited for training and evaluating our neural network model. Normally, recipes facilitate steps like scaling, normalization, handling missing values, and handling categorical variables to produce consistent and sensical input for the model.\n",
        "\n",
        "Some models require extensive data pre-processing and feature engineering to optimize results, however the nueral network does pretty well \"out of the box\", and thus minimal processing and feature engineering is required.\n"
      ],
      "metadata": {
        "id": "wU44nOcjXqZF"
      }
    },
    {
      "cell_type": "code",
      "source": [
        "rec <-\n",
        "  recipe(Completion ~ ., data = data_trn) %>% # regressing all variables in the data onto our outcome\n",
        "  step_string2factor(Completion, levels = c(\"completion\", \"non_completion\")) %>% # specifying the levels of our outcome variable and turning into a factor variable instead of string\n",
        "  step_YeoJohnson(all_numeric_predictors()) %>% # for normality, there is some extreme skew in some variabless\n",
        "  step_nzv(all_predictors()) %>% # removes variables that are very sparse and unbalanced (Near-Zero Variance), there are some variables like this in the dataset\n",
        "  step_impute_knn(all_numeric_predictors()) %>% # since there is missing data, we will use the knn method to impute the data\n",
        "  step_range(all_predictors()) # range correction for better model performance and convergence"
      ],
      "metadata": {
        "id": "QGQfApo4iegM"
      },
      "execution_count": null,
      "outputs": []
    },
    {
      "cell_type": "markdown",
      "source": [
        "## Make a Feature Matrix\n",
        "Now that we have a recipe, we will feed in our training data to make a feature matrix to use in our model"
      ],
      "metadata": {
        "id": "KycV9X_vguUP"
      }
    },
    {
      "cell_type": "markdown",
      "source": [],
      "metadata": {
        "id": "CWb2bdDzGbcn"
      }
    },
    {
      "cell_type": "code",
      "source": [
        "feat_trn <- rec %>%\n",
        "  make_features(data_trn)"
      ],
      "metadata": {
        "colab": {
          "base_uri": "https://localhost:8080/"
        },
        "id": "SaINfTllgoeJ",
        "outputId": "2d9da42c-3d98-4d17-c61e-fa52cccb955d"
      },
      "execution_count": null,
      "outputs": [
        {
          "output_type": "stream",
          "name": "stdout",
          "text": [
            "Rows: 312\n",
            "Columns: 128\n",
            "$ CID                \u001b[3m\u001b[90m<dbl>\u001b[39m\u001b[23m 0.9428398, 0.9037638, 0.8927500, 0.8909134, 0.88723…\n",
            "$ LOS                \u001b[3m\u001b[90m<dbl>\u001b[39m\u001b[23m 0.2913546, 0.4853893, 0.2281092, 0.3838314, 0.25345…\n",
            "$ ReligPref          \u001b[3m\u001b[90m<dbl>\u001b[39m\u001b[23m 0.3427779, 0.4829690, 0.5015057, 0.6169810, 0.26482…\n",
            "$ ReligSimp          \u001b[3m\u001b[90m<dbl>\u001b[39m\u001b[23m 0.4380603, 0.5410472, 0.6383677, 0.8191838, 0.43806…\n",
            "$ Race               \u001b[3m\u001b[90m<dbl>\u001b[39m\u001b[23m 0.0, 0.0, 0.0, 0.0, 0.0, 0.0, 0.0, 0.0, 0.0, 0.8, 0…\n",
            "$ Ethnicity          \u001b[3m\u001b[90m<dbl>\u001b[39m\u001b[23m 1, 0, 0, 0, 0, 0, 0, 1, 0, 0, 0, 0, 0, 0, 0, 0, 0, …\n",
            "$ MaritalStat        \u001b[3m\u001b[90m<dbl>\u001b[39m\u001b[23m 0.6938626, 0.9666326, 0.0000000, 0.0000000, 0.69386…\n",
            "$ Positivity         \u001b[3m\u001b[90m<dbl>\u001b[39m\u001b[23m 0.50272067, 1.00000000, 1.00000000, 0.12513324, 1.0…\n",
            "$ Sense              \u001b[3m\u001b[90m<dbl>\u001b[39m\u001b[23m 0.36942738, 0.78333050, 0.67715994, 0.78333050, 0.6…\n",
            "$ Gender             \u001b[3m\u001b[90m<dbl>\u001b[39m\u001b[23m 0.0, 0.2, 0.0, 0.8, 0.0, 0.0, 0.0, 0.0, 0.0, 0.0, 0…\n",
            "$ Sexuality          \u001b[3m\u001b[90m<dbl>\u001b[39m\u001b[23m 1.0000000, 0.6746107, 0.4398549, 0.6746107, 0.00000…\n",
            "$ Transport          \u001b[3m\u001b[90m<dbl>\u001b[39m\u001b[23m 0, 1, 1, 0, 0, 0, 1, 0, 1, 1, 1, 0, 0, 0, 1, 0, 0, …\n",
            "$ Wilderness         \u001b[3m\u001b[90m<dbl>\u001b[39m\u001b[23m 0, 0, 1, 0, 1, 1, 0, 0, 0, 0, 1, 0, 1, 0, 1, 1, 0, …\n",
            "$ Acute_Psych        \u001b[3m\u001b[90m<dbl>\u001b[39m\u001b[23m 0, 1, 0, 1, 1, 1, 1, 1, 1, 1, 1, 1, 0, 1, 1, 0, 1, …\n",
            "$ Residential        \u001b[3m\u001b[90m<dbl>\u001b[39m\u001b[23m 1, 1, 1, 1, 1, 1, 0, 0, 0, 0, 1, 1, 0, 0, 1, 0, 1, …\n",
            "$ Adopted            \u001b[3m\u001b[90m<dbl>\u001b[39m\u001b[23m 0, 0, 0, 1, 0, 0, 0, 0, 1, 0, 0, 0, 0, 0, 0, 0, 0, …\n",
            "$ Annual_Income      \u001b[3m\u001b[90m<dbl>\u001b[39m\u001b[23m 1.0000000, 0.0000000, 1.0000000, 1.0000000, 1.00000…\n",
            "$ P_Prescribe_Meds   \u001b[3m\u001b[90m<dbl>\u001b[39m\u001b[23m 1, 1, 1, 1, 1, 1, 1, 1, 1, 1, 1, 1, 1, 1, 1, 1, 1, …\n",
            "$ P_Meds_Adherance   \u001b[3m\u001b[90m<dbl>\u001b[39m\u001b[23m 1, 1, 1, 1, 1, 1, 1, 1, 1, 1, 1, 1, 1, 1, 1, 0, 1, …\n",
            "$ C_Prescribe_Meds   \u001b[3m\u001b[90m<dbl>\u001b[39m\u001b[23m 1, 1, 1, 1, 1, 1, 1, 1, 1, 1, 1, 1, 1, 0, 1, 0, 1, …\n",
            "$ C_Meds_Adherance   \u001b[3m\u001b[90m<dbl>\u001b[39m\u001b[23m 1, 1, 1, 1, 1, 1, 1, 1, 1, 1, 1, 1, 1, 1, 1, 1, 1, …\n",
            "$ ClientAgeAdmit     \u001b[3m\u001b[90m<dbl>\u001b[39m\u001b[23m 0.7268216, 0.7268216, 1.0000000, 0.4941787, 0.49417…\n",
            "$ Backslide          \u001b[3m\u001b[90m<dbl>\u001b[39m\u001b[23m 1, 1, 1, 1, 1, 1, 0, 1, 1, 1, 1, 1, 1, 1, 1, 1, 1, …\n",
            "$ PointSheet         \u001b[3m\u001b[90m<dbl>\u001b[39m\u001b[23m 1, 1, 1, 1, 1, 1, 0, 0, 1, 1, 1, 1, 0, 1, 1, 1, 1, …\n",
            "$ Safety_Admit_Level \u001b[3m\u001b[90m<dbl>\u001b[39m\u001b[23m 0.6301749, 0.4165241, 0.4422275, 0.5271523, 0.30298…\n",
            "$ Level1             \u001b[3m\u001b[90m<dbl>\u001b[39m\u001b[23m 0.3378380, 0.3860394, 0.5230188, 0.8159472, 0.39383…\n",
            "$ Level2             \u001b[3m\u001b[90m<dbl>\u001b[39m\u001b[23m 0.4366815, 0.4174675, 0.3526586, 0.4645407, 0.13433…\n",
            "$ Level3             \u001b[3m\u001b[90m<dbl>\u001b[39m\u001b[23m 0.5170742, 0.4879624, 0.3390243, 0.4523209, 0.32832…\n",
            "$ Level4             \u001b[3m\u001b[90m<dbl>\u001b[39m\u001b[23m 0.4922592, 0.3598996, 0.4953140, 0.4672401, 0.40509…\n",
            "$ Level5             \u001b[3m\u001b[90m<dbl>\u001b[39m\u001b[23m 0.5081217, 0.3883270, 0.4735214, 0.5394401, 0.47566…\n",
            "$ PrimaryDiag        \u001b[3m\u001b[90m<dbl>\u001b[39m\u001b[23m 0.5794152, 0.5794152, 0.0000000, 0.9796863, 0.57941…\n",
            "$ SecondDiag         \u001b[3m\u001b[90m<dbl>\u001b[39m\u001b[23m 0.9171832, 0.3596746, 0.9171832, 0.8280202, 0.35967…\n",
            "$ ThirdDiag          \u001b[3m\u001b[90m<dbl>\u001b[39m\u001b[23m 0.1718969, 0.7123099, 0.3105527, 0.7914637, 0.79146…\n",
            "$ FourthDiag         \u001b[3m\u001b[90m<dbl>\u001b[39m\u001b[23m 0.6445875, 0.5441591, 0.1250163, 0.0000000, 0.82670…\n",
            "$ FifthDiag          \u001b[3m\u001b[90m<dbl>\u001b[39m\u001b[23m 0.9062660, 0.7294233, 0.5894681, 0.5586831, 0.46720…\n",
            "$ SixthDiag          \u001b[3m\u001b[90m<dbl>\u001b[39m\u001b[23m 0.3175790, 0.4565782, 0.6167641, 0.5348552, 0.41609…\n",
            "$ SeventhDiag        \u001b[3m\u001b[90m<dbl>\u001b[39m\u001b[23m 0.7028577, 0.5082477, 1.0000000, 0.5614535, 0.70285…\n",
            "$ EightDiag          \u001b[3m\u001b[90m<dbl>\u001b[39m\u001b[23m 0.750, 0.625, 1.000, 0.625, 1.000, 0.625, 0.625, 0.…\n",
            "$ Nuerodevelopmental \u001b[3m\u001b[90m<dbl>\u001b[39m\u001b[23m 0, 0, 1, 1, 0, 1, 0, 0, 1, 1, 1, 1, 1, 0, 0, 1, 1, …\n",
            "$ Anxiety            \u001b[3m\u001b[90m<dbl>\u001b[39m\u001b[23m 1, 1, 1, 0, 1, 1, 0, 1, 0, 0, 1, 1, 1, 1, 1, 1, 0, …\n",
            "$ Depressive         \u001b[3m\u001b[90m<dbl>\u001b[39m\u001b[23m 1, 1, 1, 0, 1, 1, 1, 0, 1, 0, 0, 0, 1, 1, 1, 0, 1, …\n",
            "$ Substance          \u001b[3m\u001b[90m<dbl>\u001b[39m\u001b[23m 1, 0, 0, 0, 1, 0, 0, 0, 0, 1, 1, 0, 0, 0, 0, 1, 0, …\n",
            "$ Personality        \u001b[3m\u001b[90m<dbl>\u001b[39m\u001b[23m 0, 0, 1, 0, 0, 0, 1, 0, 0, 0, 1, 0, 0, 0, 0, 0, 1, …\n",
            "$ Eating             \u001b[3m\u001b[90m<dbl>\u001b[39m\u001b[23m 0, 0, 0, 1, 0, 0, 0, 0, 0, 1, 0, 0, 0, 1, 0, 0, 1, …\n",
            "$ Disruptive         \u001b[3m\u001b[90m<dbl>\u001b[39m\u001b[23m 1, 1, 1, 0, 0, 0, 0, 0, 0, 0, 1, 0, 0, 0, 0, 0, 0, …\n",
            "$ Trauma             \u001b[3m\u001b[90m<dbl>\u001b[39m\u001b[23m 1, 0, 1, 1, 1, 1, 1, 0, 0, 0, 0, 0, 1, 0, 0, 0, 1, …\n",
            "$ Other              \u001b[3m\u001b[90m<dbl>\u001b[39m\u001b[23m 0, 0, 1, 0, 1, 0, 0, 1, 0, 1, 0, 0, 0, 0, 0, 1, 0, …\n",
            "$ Bipolar            \u001b[3m\u001b[90m<dbl>\u001b[39m\u001b[23m 0, 0, 0, 1, 0, 0, 0, 1, 0, 1, 1, 1, 0, 0, 0, 0, 0, …\n",
            "$ Comorbidity        \u001b[3m\u001b[90m<dbl>\u001b[39m\u001b[23m 0.7714105, 0.4687454, 1.0000000, 0.6325686, 0.77141…\n",
            "$ MomClinTime        \u001b[3m\u001b[90m<dbl>\u001b[39m\u001b[23m 1.0000000, 0.6666667, 0.6666667, 0.6666667, 0.66666…\n",
            "$ MomTherTime        \u001b[3m\u001b[90m<dbl>\u001b[39m\u001b[23m 0.3671679, 0.3671679, 0.7813334, 0.5698889, 0.56988…\n",
            "$ MomTher            \u001b[3m\u001b[90m<dbl>\u001b[39m\u001b[23m 0, 1, 1, 1, 1, 1, 0, 1, 0, 1, 1, 1, 1, 1, 1, 0, 1, …\n",
            "$ DadClinTime        \u001b[3m\u001b[90m<dbl>\u001b[39m\u001b[23m 0.42917262, 0.42917262, 0.42917262, 0.42917262, 0.6…\n",
            "$ DadTherTime        \u001b[3m\u001b[90m<dbl>\u001b[39m\u001b[23m 0.6176745, 0.6176745, 0.8042870, 0.4414437, 0.61767…\n",
            "$ DadTher            \u001b[3m\u001b[90m<dbl>\u001b[39m\u001b[23m 1, 0, 1, 0, 1, 1, 0, 0, 0, 1, 1, 0, 1, 1, 0, 0, 1, …\n",
            "$ GuarTherTime       \u001b[3m\u001b[90m<dbl>\u001b[39m\u001b[23m 0.5, 0.5, 0.5, 0.5, 0.5, 0.5, 0.5, 0.5, 0.5, 0.0, 0…\n",
            "$ GuardianTher       \u001b[3m\u001b[90m<dbl>\u001b[39m\u001b[23m 0, 1, 0, 0, 1, 0, 0, 1, 0, 1, 0, 0, 0, 0, 0, 0, 0, …\n",
            "$ Q1                 \u001b[3m\u001b[90m<dbl>\u001b[39m\u001b[23m 0.5516366, 0.0000000, 0.5516366, 0.2961837, 0.00000…\n",
            "$ Q2                 \u001b[3m\u001b[90m<dbl>\u001b[39m\u001b[23m 0.3327012, 0.5898028, 0.8075325, 0.5898028, 0.33270…\n",
            "$ Q3                 \u001b[3m\u001b[90m<dbl>\u001b[39m\u001b[23m 0.6091164, 0.3519853, 0.6091164, 0.6091164, 0.00000…\n",
            "$ Q4                 \u001b[3m\u001b[90m<dbl>\u001b[39m\u001b[23m 0.4112992, 0.4112992, 0.8516969, 0.4112992, 0.66525…\n",
            "$ Q5                 \u001b[3m\u001b[90m<dbl>\u001b[39m\u001b[23m 0.3630692, 0.6199714, 0.8256238, 0.6199714, 0.36306…\n",
            "$ Q6                 \u001b[3m\u001b[90m<dbl>\u001b[39m\u001b[23m 0.6823806, 0.0000000, 0.0000000, 0.0000000, 0.00000…\n",
            "$ Q7                 \u001b[3m\u001b[90m<dbl>\u001b[39m\u001b[23m 0.4234701, 0.4234701, 0.7164472, 0.7164472, 0.71644…\n",
            "$ Q8                 \u001b[3m\u001b[90m<dbl>\u001b[39m\u001b[23m 0.5814378, 0.0000000, 0.8024109, 0.0000000, 0.00000…\n",
            "$ Q9                 \u001b[3m\u001b[90m<dbl>\u001b[39m\u001b[23m 0.2996563, 0.5553610, 0.5553610, 0.5553610, 0.29965…\n",
            "$ Q10                \u001b[3m\u001b[90m<dbl>\u001b[39m\u001b[23m 0.0000000, 0.0000000, 0.0000000, 0.8496405, 0.00000…\n",
            "$ Q11                \u001b[3m\u001b[90m<dbl>\u001b[39m\u001b[23m 0.50, 0.00, 0.00, 0.25, 0.00, 0.00, 0.25, 0.25, 0.0…\n",
            "$ Q12                \u001b[3m\u001b[90m<dbl>\u001b[39m\u001b[23m 0.4907971, 0.2421466, 0.4907971, 1.0000000, 0.74376…\n",
            "$ Q13                \u001b[3m\u001b[90m<dbl>\u001b[39m\u001b[23m 0.7806030, 0.0000000, 0.0000000, 0.5509057, 0.78060…\n",
            "$ Q14                \u001b[3m\u001b[90m<dbl>\u001b[39m\u001b[23m 0.7782131, 0.0000000, 1.0000000, 1.0000000, 0.77821…\n",
            "$ Q15                \u001b[3m\u001b[90m<dbl>\u001b[39m\u001b[23m 0.6986514, 0.1908114, 0.6986514, 1.0000000, 0.69865…\n",
            "$ Q16                \u001b[3m\u001b[90m<dbl>\u001b[39m\u001b[23m 0.5463016, 0.0000000, 0.8349470, 0.5463016, 0.54630…\n",
            "$ Q17                \u001b[3m\u001b[90m<dbl>\u001b[39m\u001b[23m 0.8033785, 0.0000000, 1.0000000, 0.5830123, 0.00000…\n",
            "$ Q19                \u001b[3m\u001b[90m<dbl>\u001b[39m\u001b[23m 0.0000000, 0.0000000, 0.0000000, 0.0000000, 0.00000…\n",
            "$ Q20                \u001b[3m\u001b[90m<dbl>\u001b[39m\u001b[23m 0.0000000, 0.0000000, 0.0000000, 0.9170775, 0.00000…\n",
            "$ Q21                \u001b[3m\u001b[90m<dbl>\u001b[39m\u001b[23m 0.0000000, 0.0000000, 0.0000000, 1.0000000, 0.00000…\n",
            "$ Q22                \u001b[3m\u001b[90m<dbl>\u001b[39m\u001b[23m 0.0000000, 0.0000000, 0.0000000, 0.7582949, 0.00000…\n",
            "$ Q23                \u001b[3m\u001b[90m<dbl>\u001b[39m\u001b[23m 0.3697597, 0.0000000, 0.6264398, 0.8294267, 0.36975…\n",
            "$ Q24                \u001b[3m\u001b[90m<dbl>\u001b[39m\u001b[23m 0.3681239, 0.0000000, 0.0000000, 0.6537428, 0.36812…\n",
            "$ Q25                \u001b[3m\u001b[90m<dbl>\u001b[39m\u001b[23m 0.2447512, 0.0000000, 0.4938640, 1.0000000, 0.49386…\n",
            "$ Q26                \u001b[3m\u001b[90m<dbl>\u001b[39m\u001b[23m 0.4479193, 0.0000000, 0.6976638, 0.6976638, 0.00000…\n",
            "$ Q27                \u001b[3m\u001b[90m<dbl>\u001b[39m\u001b[23m 0.2675816, 0.2675816, 1.0000000, 0.5201393, 0.76340…\n",
            "$ Q28                \u001b[3m\u001b[90m<dbl>\u001b[39m\u001b[23m 0.0000000, 0.5192941, 0.9003711, 0.7563728, 0.00000…\n",
            "$ Q29                \u001b[3m\u001b[90m<dbl>\u001b[39m\u001b[23m 0.9146348, 0.0000000, 0.0000000, 1.0000000, 0.00000…\n",
            "$ Q30                \u001b[3m\u001b[90m<dbl>\u001b[39m\u001b[23m 0.2815428, 1.0000000, 0.7735638, 1.0000000, 0.53570…\n",
            "$ Q31                \u001b[3m\u001b[90m<dbl>\u001b[39m\u001b[23m 0.6268322, 0.0000000, 0.8345662, 0.0000000, 0.62683…\n",
            "$ Q32                \u001b[3m\u001b[90m<dbl>\u001b[39m\u001b[23m 0.5129160, 0.2591310, 0.5129160, 1.0000000, 0.51291…\n",
            "$ Q33                \u001b[3m\u001b[90m<dbl>\u001b[39m\u001b[23m 0.0000000, 0.7380521, 0.0000000, 0.4962694, 0.00000…\n",
            "$ Q34                \u001b[3m\u001b[90m<dbl>\u001b[39m\u001b[23m 0.5643476, 0.3081156, 0.5643476, 0.7918010, 0.56434…\n",
            "$ Q35                \u001b[3m\u001b[90m<dbl>\u001b[39m\u001b[23m 0.0000000, 0.4612212, 0.0000000, 0.7090408, 0.00000…\n",
            "$ Q36                \u001b[3m\u001b[90m<dbl>\u001b[39m\u001b[23m 0.7168086, 0.0000000, 0.0000000, 0.7168086, 0.47044…\n",
            "$ Q37                \u001b[3m\u001b[90m<dbl>\u001b[39m\u001b[23m 0.7008382, 0.0000000, 0.0000000, 0.7008382, 0.70083…\n",
            "$ Q38                \u001b[3m\u001b[90m<dbl>\u001b[39m\u001b[23m 0.00, 0.00, 0.00, 0.00, 0.00, 0.00, 0.25, 0.00, 0.0…\n",
            "$ Q39                \u001b[3m\u001b[90m<dbl>\u001b[39m\u001b[23m 0.8439129, 0.0000000, 0.0000000, 0.0000000, 0.00000…\n",
            "$ Q40                \u001b[3m\u001b[90m<dbl>\u001b[39m\u001b[23m 0.4597726, 0.0000000, 0.0000000, 0.0000000, 0.45977…\n",
            "$ Q41                \u001b[3m\u001b[90m<dbl>\u001b[39m\u001b[23m 0.0000000, 0.0000000, 0.7690258, 1.0000000, 0.00000…\n",
            "$ Q42                \u001b[3m\u001b[90m<dbl>\u001b[39m\u001b[23m 0.4944967, 0.0000000, 1.0000000, 1.0000000, 0.74628…\n",
            "$ Q43                \u001b[3m\u001b[90m<dbl>\u001b[39m\u001b[23m 0.3917141, 0.3917141, 1.0000000, 0.3917141, 0.39171…\n",
            "$ Q44                \u001b[3m\u001b[90m<dbl>\u001b[39m\u001b[23m 0.3723747, 0.6289512, 0.6289512, 1.0000000, 0.62895…\n",
            "$ Q45                \u001b[3m\u001b[90m<dbl>\u001b[39m\u001b[23m 0.4838240, 0.2387470, 0.4838240, 0.7385435, 1.00000…\n",
            "$ Q46                \u001b[3m\u001b[90m<dbl>\u001b[39m\u001b[23m 0.5692207, 0.5692207, 0.7941623, 1.0000000, 0.56922…\n",
            "$ Q47                \u001b[3m\u001b[90m<dbl>\u001b[39m\u001b[23m 0.712368, 0.419709, 0.419709, 0.000000, 0.000000, 0…\n",
            "$ Q48                \u001b[3m\u001b[90m<dbl>\u001b[39m\u001b[23m 0.0000000, 0.0000000, 0.8947869, 0.7454222, 0.00000…\n",
            "$ Q49                \u001b[3m\u001b[90m<dbl>\u001b[39m\u001b[23m 0.4957197, 0.4957197, 0.7471096, 0.7471096, 0.74710…\n",
            "$ Q50                \u001b[3m\u001b[90m<dbl>\u001b[39m\u001b[23m 0.0000000, 0.9425809, 0.0000000, 0.6418433, 0.00000…\n",
            "$ Q51                \u001b[3m\u001b[90m<dbl>\u001b[39m\u001b[23m 0.8487540, 0.0000000, 0.0000000, 0.9574300, 0.00000…\n",
            "$ Q52                \u001b[3m\u001b[90m<dbl>\u001b[39m\u001b[23m 0.7908332, 0.0000000, 0.7908332, 0.9174625, 0.79083…\n",
            "$ Q53                \u001b[3m\u001b[90m<dbl>\u001b[39m\u001b[23m 0.2749576, 0.2749576, 0.5348711, 1.0000000, 0.53487…\n",
            "$ Q54                \u001b[3m\u001b[90m<dbl>\u001b[39m\u001b[23m 0.0000000, 0.0000000, 0.9077656, 0.7711004, 0.00000…\n",
            "$ Q55                \u001b[3m\u001b[90m<dbl>\u001b[39m\u001b[23m 0.00, 0.00, 0.00, 0.25, 0.00, 0.00, 0.00, 0.00, 0.2…\n",
            "$ Q56                \u001b[3m\u001b[90m<dbl>\u001b[39m\u001b[23m 0.7350262, 0.2314579, 0.7350262, 0.7350262, 0.73502…\n",
            "$ Q57                \u001b[3m\u001b[90m<dbl>\u001b[39m\u001b[23m 0.2523024, 0.2523024, 0.5026733, 1.0000000, 0.75179…\n",
            "$ Q58                \u001b[3m\u001b[90m<dbl>\u001b[39m\u001b[23m 0.0000000, 0.0000000, 0.9566079, 0.6926452, 0.00000…\n",
            "$ Q59                \u001b[3m\u001b[90m<dbl>\u001b[39m\u001b[23m 0.4128932, 0.0000000, 0.6666992, 0.8525080, 0.41289…\n",
            "$ Q60                \u001b[3m\u001b[90m<dbl>\u001b[39m\u001b[23m 0.2833421, 0.2833421, 0.7816731, 0.7816731, 0.28334…\n",
            "$ Q61                \u001b[3m\u001b[90m<dbl>\u001b[39m\u001b[23m 0.2799959, 0.5339949, 0.5339949, 1.0000000, 0.77245…\n",
            "$ Q62                \u001b[3m\u001b[90m<dbl>\u001b[39m\u001b[23m 0.7682547, 0.2741713, 0.5275304, 0.0000000, 0.52753…\n",
            "$ Q63                \u001b[3m\u001b[90m<dbl>\u001b[39m\u001b[23m 0.5895560, 0.3324583, 0.3324583, 1.0000000, 0.58955…\n",
            "$ Q64                \u001b[3m\u001b[90m<dbl>\u001b[39m\u001b[23m 0.3204120, 0.3204120, 0.5771994, 0.7997980, 0.32041…\n",
            "$ ID                 \u001b[3m\u001b[90m<dbl>\u001b[39m\u001b[23m 0.5216201, 0.3815285, 0.6665853, 0.8440447, 0.50658…\n",
            "$ S                  \u001b[3m\u001b[90m<dbl>\u001b[39m\u001b[23m 0.2792030, 0.3738407, 0.5983757, 0.6916080, 0.27920…\n",
            "$ IR                 \u001b[3m\u001b[90m<dbl>\u001b[39m\u001b[23m 0.5312722, 0.2299630, 0.6180393, 0.5897345, 0.56084…\n",
            "$ SP                 \u001b[3m\u001b[90m<dbl>\u001b[39m\u001b[23m 0.5879407, 0.1533632, 0.3442276, 0.5241920, 0.34422…\n",
            "$ BD                 \u001b[3m\u001b[90m<dbl>\u001b[39m\u001b[23m 0.5058362, 0.2590973, 0.7216940, 0.7423352, 0.52836…\n",
            "$ CI                 \u001b[3m\u001b[90m<dbl>\u001b[39m\u001b[23m 0.3315660, 0.3315660, 0.5674815, 0.7953847, 0.37291…\n",
            "$ SCORE              \u001b[3m\u001b[90m<dbl>\u001b[39m\u001b[23m 0.4635373, 0.3001470, 0.6059412, 0.7311724, 0.44485…\n",
            "$ Completion         \u001b[3m\u001b[90m<fct>\u001b[39m\u001b[23m completion, completion, completion, completion, com…\n"
          ]
        }
      ]
    },
    {
      "cell_type": "markdown",
      "source": [
        "## Hyper Parameter Tuning\n",
        "With the tidymodels framework we can tune our hyper parameters to find the optimal point. For our model, we are going to tune the amoung of hidden layers, and the amount of dropout."
      ],
      "metadata": {
        "id": "rEmCrTopGc3V"
      }
    },
    {
      "cell_type": "code",
      "source": [
        "grid_keras <- expand_grid(hidden_units = c(5, 10, 20, 30), dropout = c(.1, .001, .0001))"
      ],
      "metadata": {
        "id": "cHRVMNeLGdfc"
      },
      "execution_count": null,
      "outputs": []
    },
    {
      "cell_type": "code",
      "source": [
        "fits_nn <-\n",
        "  mlp(hidden_units = tune(), dropout = tune(), activation = \"relu\", epochs = 200) %>%\n",
        "  set_mode(\"classification\") %>%\n",
        "  set_engine(\"keras\", verbose = 1, seeds = fit_seeds) %>%\n",
        "  tune_grid(preprocessor = rec,\n",
        "                grid = grid_keras,\n",
        "                resamples = splits_kfold,\n",
        "                metrics = metric_set(accuracy))"
      ],
      "metadata": {
        "colab": {
          "base_uri": "https://localhost:8080/"
        },
        "id": "o5_1-6jxGfH5",
        "outputId": "de44eb9b-6d5b-43f1-eb52-ecc0c4d4540f"
      },
      "execution_count": null,
      "outputs": [
        {
          "output_type": "stream",
          "name": "stderr",
          "text": [
            "→ \u001b[31m\u001b[1mA\u001b[22m\u001b[39m | \u001b[31merror\u001b[39m:   Python module tensorflow.keras was not found.\n",
            "               \n",
            "               Detected Python configuration:\n",
            "               \n",
            "               \n",
            "               \n",
            "\n",
            "There were issues with some computations   \u001b[1m\u001b[31mA\u001b[39m\u001b[22m: x1\n",
            "\n",
            "There were issues with some computations   \u001b[1m\u001b[31mA\u001b[39m\u001b[22m: x13\n",
            "\n",
            "There were issues with some computations   \u001b[1m\u001b[31mA\u001b[39m\u001b[22m: x25\n",
            "\n",
            "There were issues with some computations   \u001b[1m\u001b[31mA\u001b[39m\u001b[22m: x33\n",
            "\n",
            "There were issues with some computations   \u001b[1m\u001b[31mA\u001b[39m\u001b[22m: x36\n",
            "\n",
            "\n",
            "\n"
          ]
        }
      ]
    },
    {
      "cell_type": "code",
      "source": [
        "install.packages(\"reticulate\")"
      ],
      "metadata": {
        "colab": {
          "base_uri": "https://localhost:8080/"
        },
        "id": "JVTmudM8I_Wl",
        "outputId": "81f1e855-b037-45a3-9ad2-b03e68e175cd"
      },
      "execution_count": null,
      "outputs": [
        {
          "output_type": "stream",
          "name": "stderr",
          "text": [
            "Installing package into ‘/usr/local/lib/R/site-library’\n",
            "(as ‘lib’ is unspecified)\n",
            "\n"
          ]
        }
      ]
    },
    {
      "cell_type": "code",
      "source": [
        "Sys.which(\"python\")"
      ],
      "metadata": {
        "colab": {
          "base_uri": "https://localhost:8080/",
          "height": 34
        },
        "id": "7VhAYQcmJDxs",
        "outputId": "9fb64a36-467b-45c6-9514-38277b4a4584"
      },
      "execution_count": null,
      "outputs": [
        {
          "output_type": "display_data",
          "data": {
            "text/html": [
              "<strong>python:</strong> '/usr/local/bin/python'"
            ],
            "text/markdown": "**python:** '/usr/local/bin/python'",
            "text/latex": "\\textbf{python:} '/usr/local/bin/python'",
            "text/plain": [
              "                 python \n",
              "\"/usr/local/bin/python\" "
            ]
          },
          "metadata": {}
        }
      ]
    },
    {
      "cell_type": "code",
      "source": [
        "library(reticulate)\n",
        "use_python(\"/usr/bin/python3\")"
      ],
      "metadata": {
        "id": "Dxhk4MyGJduh"
      },
      "execution_count": null,
      "outputs": []
    },
    {
      "cell_type": "code",
      "source": [
        "library(tensorflow)\n",
        "tf$executing_eagerly()"
      ],
      "metadata": {
        "colab": {
          "base_uri": "https://localhost:8080/",
          "height": 201
        },
        "id": "fFrEiHzULIkX",
        "outputId": "85e868b8-34dd-4781-a57e-3ab8c455082f"
      },
      "execution_count": null,
      "outputs": [
        {
          "output_type": "error",
          "ename": "ERROR",
          "evalue": "ignored",
          "traceback": [
            "partially initialized module 'tensorflow' has no attribute 'executing_eagerly' (most likely due to a circular import)Traceback:\n",
            "1. tf$executing_eagerly",
            "2. `$.python.builtin.module`(tf, executing_eagerly)",
            "3. `$.python.builtin.object`(x, name)",
            "4. py_get_attr_or_item(x, name, TRUE)",
            "5. py_get_attr(x, name)",
            "6. py_get_attr_impl(x, name, silent)"
          ]
        }
      ]
    },
    {
      "cell_type": "code",
      "source": [
        "tensorflow::tf$enable_eager_execution()"
      ],
      "metadata": {
        "colab": {
          "base_uri": "https://localhost:8080/",
          "height": 201
        },
        "id": "uH24_iBnKyrO",
        "outputId": "e00cd9ab-70dd-46c4-d76c-d0ace9770ba9"
      },
      "execution_count": null,
      "outputs": [
        {
          "output_type": "error",
          "ename": "ERROR",
          "evalue": "ignored",
          "traceback": [
            "partially initialized module 'tensorflow' has no attribute 'enable_eager_execution' (most likely due to a circular import)Traceback:\n",
            "1. tensorflow::tf$enable_eager_execution",
            "2. `$.python.builtin.module`(tensorflow::tf, enable_eager_execution)",
            "3. `$.python.builtin.object`(x, name)",
            "4. py_get_attr_or_item(x, name, TRUE)",
            "5. py_get_attr(x, name)",
            "6. py_get_attr_impl(x, name, silent)"
          ]
        }
      ]
    }
  ]
}